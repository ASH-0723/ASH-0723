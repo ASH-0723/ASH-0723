{
  "nbformat": 4,
  "nbformat_minor": 0,
  "metadata": {
    "colab": {
      "provenance": []
    },
    "kernelspec": {
      "name": "python3",
      "display_name": "Python 3"
    },
    "language_info": {
      "name": "python"
    }
  },
  "cells": [
    {
      "cell_type": "code",
      "execution_count": null,
      "metadata": {
        "id": "UW76MUCLUCMl"
      },
      "outputs": [],
      "source": []
    },
    {
      "cell_type": "markdown",
      "source": [
        "# **THEORY**"
      ],
      "metadata": {
        "id": "oNTiMAy-qPzD"
      }
    },
    {
      "cell_type": "markdown",
      "source": [
        "1.  What are data structures, and why are they important ?\n",
        "\n",
        "Ans:\n",
        "*  Data structures are ways of organizing and storing data to perform operations\n",
        "efficiently.\n",
        "*  They are important because they help manage large amounts of data\n",
        "efficiently, making programs more organized and optimizing resource use.\n",
        "\n",
        "\n",
        "\n"
      ],
      "metadata": {
        "id": "Rdbua9J-UF6b"
      }
    },
    {
      "cell_type": "markdown",
      "source": [
        "2.  They are important because they help manage large amounts of data\n",
        "efficiently, making programs more organized and optimizing resource use ?\n",
        "\n",
        "Ans:\n",
        "* Mutable data types can be changed after creation (e.g., lists, dictionaries),\n",
        "while immutable types cannot (e.g., strings, tuples). For example, you can\n",
        "append to a list, but you cannot change characters in a string.\n",
        "\n"
      ],
      "metadata": {
        "id": "XwUyBMm2Uz22"
      }
    },
    {
      "cell_type": "markdown",
      "source": [
        "3. What are the main differences between lists and tuples in Python ?\n",
        "\n",
        "Ans:\n",
        "* Lists are mutable and defined with square brackets [], while tuples are\n",
        "immutable and defined with parentheses ().\n",
        "* Lists are generally used when data\n",
        "may change, tuples when it should remain constant.\n",
        "\n",
        "\n",
        "\n"
      ],
      "metadata": {
        "id": "CnozANW8VWFa"
      }
    },
    {
      "cell_type": "markdown",
      "source": [
        "4. Describe how dictionaries store data ?\n",
        "\n",
        "Ans:\n",
        "* Dictionaries store data as key-value pairs. Internally, they use a hash table\n",
        "where the key is hashed to find the index at which the value is stored.\n",
        "\n",
        "\n"
      ],
      "metadata": {
        "id": "CoD-fzkjWEnl"
      }
    },
    {
      "cell_type": "markdown",
      "source": [
        "5.  Why might you use a set instead of a list in Python ?\n",
        "\n",
        "Ans:\n",
        "* Sets are used when you need to store unique elements and perform operations like\n",
        "union and intersection efficiently.\n",
        "* Unlike lists, sets automatically discard\n",
        "duplicate values.\n",
        "\n",
        "\n",
        "\n"
      ],
      "metadata": {
        "id": "MvkL50AGWwa8"
      }
    },
    {
      "cell_type": "markdown",
      "source": [
        "6.  What is a string in Python, and how is it different from a list ?\n",
        "\n",
        "Ans:\n",
        "* A string is an immutable sequence of characters, whereas a list is a mutable\n",
        "sequence that can contain elements of different types including strings.\n",
        "\n"
      ],
      "metadata": {
        "id": "KMBZzcKSX1zo"
      }
    },
    {
      "cell_type": "markdown",
      "source": [
        "7. How do tuples ensure data integrity in Python ?\n",
        "\n",
        "Ans:\n",
        "* Tuples are immutable, meaning their elements cannot be changed after creation.\n",
        "* This makes them reliable for storing fixed collections of data.\n",
        "\n",
        "\n",
        "\n"
      ],
      "metadata": {
        "id": "rhn5OZTAYSpC"
      }
    },
    {
      "cell_type": "markdown",
      "source": [
        "8. What is a hash table, and how does it relate to dictionaries in Python ?\n",
        "\n",
        "Ans:\n",
        "* A hash table is a data structure that maps keys to values using a hash function.\n",
        "* Python dictionaries are implemented using hash tables.\n",
        "\n",
        "\n"
      ],
      "metadata": {
        "id": "XZPsTrBsY-lY"
      }
    },
    {
      "cell_type": "markdown",
      "source": [
        "9. Can lists contain different data types in Python ?\n",
        "\n",
        "Ans:\n",
        "* Yes, Python lists can contain elements of different data types, such as\n",
        "integers, strings, and even other lists.\n",
        "\n"
      ],
      "metadata": {
        "id": "LwL8M_4OaHZ0"
      }
    },
    {
      "cell_type": "markdown",
      "source": [
        "10. Explain why strings are immutable in Python ?\n",
        "\n",
        "Ans:\n",
        "* Strings are immutable to ensure data integrity and optimize performance through\n",
        "interning and memory sharing.\n",
        "\n"
      ],
      "metadata": {
        "id": "uf5PZHoIac_9"
      }
    },
    {
      "cell_type": "markdown",
      "source": [
        "11. What advantages do dictionaries offer over lists for certain tasks ?\n",
        "\n",
        "Ans:\n",
        "* Dictionaries provide fast lookups via keys, which is more efficient than\n",
        "searching through a list for a value.\n",
        "\n"
      ],
      "metadata": {
        "id": "ZPALIS1na--l"
      }
    },
    {
      "cell_type": "markdown",
      "source": [
        "12. Describe a scenario where using a tuple would be preferable over a list ?\n",
        "\n",
        "Ans:\n",
        "* Tuples are preferable when data should not change, such as coordinates (x, y) or\n",
        "database records.\n",
        "\n"
      ],
      "metadata": {
        "id": "A4FnLitwbYpy"
      }
    },
    {
      "cell_type": "markdown",
      "source": [
        "13.  How do sets handle duplicate values in Python ?\n",
        "\n",
        "Ans:\n",
        "* Sets automatically discard duplicate values and only keep unique elements.\n",
        "\n"
      ],
      "metadata": {
        "id": "KQwuVUjTcNxx"
      }
    },
    {
      "cell_type": "markdown",
      "source": [
        "14. How does the in keyword work differently for lists and dictionaries ?\n",
        "\n",
        "Ans:\n",
        "* For lists, 'in' checks if an element is in the list. For dictionaries, it checks\n",
        "if a key exists, not a value.\n"
      ],
      "metadata": {
        "id": "m1Zzfp9ScfSj"
      }
    },
    {
      "cell_type": "markdown",
      "source": [
        "15. Can you modify the elements of a tuple? Explain why or why not ?\n",
        "\n",
        "Ans:\n",
        "* No, tuples are immutable, so their elements cannot be modified after creation.\n",
        "\n"
      ],
      "metadata": {
        "id": "Ou0-KVMicyxU"
      }
    },
    {
      "cell_type": "markdown",
      "source": [
        "16. Q: What is a nested dictionary, and give an example of its use case ?\n",
        "\n",
        "Ans:\n",
        "* A nested dictionary is a dictionary within another dictionary.\n",
        "*  It's useful for\n",
        "representing hierarchical data, like student records categorized by class.\n",
        "\n",
        "\n",
        "\n",
        "\n",
        "\n"
      ],
      "metadata": {
        "id": "5jkr9MbUdUg7"
      }
    },
    {
      "cell_type": "markdown",
      "source": [
        "17. Describe the time complexity of accessing elements in a dictionary ?\n",
        "\n",
        "Ans:\n",
        "* The average time complexity for accessing elements in a dictionary is O(1),\n",
        "thanks to hashing."
      ],
      "metadata": {
        "id": "7nQetAODec-D"
      }
    },
    {
      "cell_type": "markdown",
      "source": [
        "18. In what situations are lists preferred over dictionaries ?\n",
        "\n",
        "Ans:\n",
        "* Lists are preferred when the order of elements matters or when accessing by\n",
        "index is needed."
      ],
      "metadata": {
        "id": "jEiZH7GwelJ5"
      }
    },
    {
      "cell_type": "markdown",
      "source": [
        "19. Why are dictionaries considered unordered, and how does that affect data retrieval ?\n",
        "\n",
        "Ans:\n",
        "* Traditionally, dictionaries were unordered, meaning key order wasn't preserved.\n",
        "\n",
        "* In Python 3.7+, they maintain insertion order, but retrieval is still by key,\n",
        "not position"
      ],
      "metadata": {
        "id": "J9s2CpqmfBlq"
      }
    },
    {
      "cell_type": "markdown",
      "source": [
        "20. Explain the difference between a list and a dictionary in terms of data retrieval ?\n",
        "\n",
        "Ans:\n",
        "* Lists retrieve values by index, while dictionaries retrieve values by key,\n",
        "making dictionaries more efficient for key-based lookups."
      ],
      "metadata": {
        "id": "XX0rY0rrfckq"
      }
    },
    {
      "cell_type": "markdown",
      "source": [
        "# **PRACTICAL**"
      ],
      "metadata": {
        "id": "uKuq91Ukp9CV"
      }
    },
    {
      "cell_type": "code",
      "source": [
        "# 1. Write a code to create a string with your name and print it ?\n",
        "# Ans:\n",
        "name = \"shubham\"\n",
        "print(name)"
      ],
      "metadata": {
        "colab": {
          "base_uri": "https://localhost:8080/"
        },
        "id": "cdLOBn-DgRYX",
        "outputId": "ce320b85-0c72-402f-ad00-8fef3c6b16f3"
      },
      "execution_count": 2,
      "outputs": [
        {
          "output_type": "stream",
          "name": "stdout",
          "text": [
            "shubham\n"
          ]
        }
      ]
    },
    {
      "cell_type": "code",
      "source": [
        "# 2. Write a code to find the length of the string \"Hello World\"\n",
        "# Ans:\n",
        "s = \"Hello World\"\n",
        "print(len(s))"
      ],
      "metadata": {
        "colab": {
          "base_uri": "https://localhost:8080/"
        },
        "id": "8zaWqWFwgr2Y",
        "outputId": "c515f858-dce0-4d35-f6fd-e37f86c6cd4c"
      },
      "execution_count": 3,
      "outputs": [
        {
          "output_type": "stream",
          "name": "stdout",
          "text": [
            "11\n"
          ]
        }
      ]
    },
    {
      "cell_type": "code",
      "source": [
        " # 3. Write a code to slice the first 3 characters from the string \"Python Programming\"\n",
        "# Ans:\n",
        "s = \"Python Programming\"\n",
        "print(s[:3])"
      ],
      "metadata": {
        "colab": {
          "base_uri": "https://localhost:8080/"
        },
        "id": "PoGASLl-g8g6",
        "outputId": "50eb4ac9-b7e1-4950-c084-6d87f6a9f01e"
      },
      "execution_count": 4,
      "outputs": [
        {
          "output_type": "stream",
          "name": "stdout",
          "text": [
            "Pyt\n"
          ]
        }
      ]
    },
    {
      "cell_type": "code",
      "source": [
        "# 4. Write a code to convert the string \"hello\" to uppercase\n",
        "# Ans:\n",
        "s = \"hello\"\n",
        "print(s.upper())"
      ],
      "metadata": {
        "colab": {
          "base_uri": "https://localhost:8080/"
        },
        "id": "Jgbe2RIGhVEO",
        "outputId": "46424c64-ecb8-442b-ddff-639501508ba5"
      },
      "execution_count": 5,
      "outputs": [
        {
          "output_type": "stream",
          "name": "stdout",
          "text": [
            "HELLO\n"
          ]
        }
      ]
    },
    {
      "cell_type": "code",
      "source": [
        "# 4. Write a code to replace the word \"apple\" with \"orange\" in the string \"I like apple\"\n",
        "# Ans:\n",
        "s = \"I like apple\"\n",
        "print(s.replace(\"apple\", \"orange\"))"
      ],
      "metadata": {
        "colab": {
          "base_uri": "https://localhost:8080/"
        },
        "id": "xXWplFp3hd8W",
        "outputId": "17647be9-d16c-470e-bca5-b9b366177cb4"
      },
      "execution_count": 6,
      "outputs": [
        {
          "output_type": "stream",
          "name": "stdout",
          "text": [
            "I like orange\n"
          ]
        }
      ]
    },
    {
      "cell_type": "code",
      "source": [
        "# 5. Write a code to create a list with numbers 1 to 5 and print it\n",
        "# Ans:\n",
        "numbers = [1, 2, 3, 4, 5]\n",
        "print(numbers)"
      ],
      "metadata": {
        "colab": {
          "base_uri": "https://localhost:8080/"
        },
        "id": "l0Blj1jkhx_Q",
        "outputId": "4ebc6e4c-333e-4031-f6d2-9ede24f13030"
      },
      "execution_count": 7,
      "outputs": [
        {
          "output_type": "stream",
          "name": "stdout",
          "text": [
            "[1, 2, 3, 4, 5]\n"
          ]
        }
      ]
    },
    {
      "cell_type": "code",
      "source": [
        "# 6. Write a code to append the number 10 to the list [1, 2, 3, 4]\n",
        "# Ans:\n",
        "lst = [1, 2, 3, 4]\n",
        "lst.append(10)\n",
        "print(lst)"
      ],
      "metadata": {
        "colab": {
          "base_uri": "https://localhost:8080/"
        },
        "id": "QwGdatfNh6Nu",
        "outputId": "c9480617-2aa7-41be-b259-c908e5c91a75"
      },
      "execution_count": 8,
      "outputs": [
        {
          "output_type": "stream",
          "name": "stdout",
          "text": [
            "[1, 2, 3, 4, 10]\n"
          ]
        }
      ]
    },
    {
      "cell_type": "code",
      "source": [
        "# 7. Write a code to remove the number 3 from the list [1, 2, 3, 4, 5]\n",
        "# Ans:\n",
        "lst = [1, 2, 3, 4, 5]\n",
        "lst.remove(3)\n",
        "print(lst)"
      ],
      "metadata": {
        "colab": {
          "base_uri": "https://localhost:8080/"
        },
        "id": "YpPVEQv-iG9n",
        "outputId": "3b453eea-e3a9-40cc-e579-4777effc28fa"
      },
      "execution_count": 9,
      "outputs": [
        {
          "output_type": "stream",
          "name": "stdout",
          "text": [
            "[1, 2, 4, 5]\n"
          ]
        }
      ]
    },
    {
      "cell_type": "code",
      "source": [
        "# 8. Write a code to access the second element in the list ['a', 'b', 'c', 'd']\n",
        "# Ans:\n",
        "lst = ['a', 'b', 'c', 'd']\n",
        "print(lst[1])"
      ],
      "metadata": {
        "colab": {
          "base_uri": "https://localhost:8080/"
        },
        "id": "whwl5108iNQ7",
        "outputId": "b18db68f-66c6-40b7-e19a-6d4fcc820dad"
      },
      "execution_count": 10,
      "outputs": [
        {
          "output_type": "stream",
          "name": "stdout",
          "text": [
            "b\n"
          ]
        }
      ]
    },
    {
      "cell_type": "code",
      "source": [
        "# 9. Write a code to reverse the list [10, 20, 30, 40, 50]\n",
        "# Ans:\n",
        "lst = [10, 20, 30, 40, 50]\n",
        "lst.reverse()\n",
        "print(lst)"
      ],
      "metadata": {
        "colab": {
          "base_uri": "https://localhost:8080/"
        },
        "id": "gBH0LSwPibAj",
        "outputId": "6fd58175-0c66-4b04-d27a-78d7844ddf69"
      },
      "execution_count": 11,
      "outputs": [
        {
          "output_type": "stream",
          "name": "stdout",
          "text": [
            "[50, 40, 30, 20, 10]\n"
          ]
        }
      ]
    },
    {
      "cell_type": "code",
      "source": [
        "# 10. Write a code to create a tuple with the elements 100, 200, 300 and print it\n",
        "# Ans:\n",
        "tpl = (100, 200, 300)\n",
        "print(tpl)"
      ],
      "metadata": {
        "colab": {
          "base_uri": "https://localhost:8080/"
        },
        "id": "m56AaERdilMZ",
        "outputId": "dee79fd0-6b4f-4820-f94f-2cfae3586079"
      },
      "execution_count": 12,
      "outputs": [
        {
          "output_type": "stream",
          "name": "stdout",
          "text": [
            "(100, 200, 300)\n"
          ]
        }
      ]
    },
    {
      "cell_type": "code",
      "source": [
        "# 11. Write a code to access the second-to-last element of the tuple ('red', 'green', 'blue', 'yellow')\n",
        "# Ans:\n",
        "tpl = ('red', 'green', 'blue', 'yellow')\n",
        "print(tpl[-2])"
      ],
      "metadata": {
        "colab": {
          "base_uri": "https://localhost:8080/"
        },
        "id": "TJrC94yYiyLy",
        "outputId": "feff6fca-7379-4189-9c53-9bfcf5027dad"
      },
      "execution_count": 13,
      "outputs": [
        {
          "output_type": "stream",
          "name": "stdout",
          "text": [
            "blue\n"
          ]
        }
      ]
    },
    {
      "cell_type": "code",
      "source": [
        "# 12. Write a code to find the minimum number in the tuple (10, 20, 5, 15)\n",
        "# Ans:\n",
        "tpl = (10, 20, 5, 15)\n",
        "print(min(tpl))"
      ],
      "metadata": {
        "colab": {
          "base_uri": "https://localhost:8080/"
        },
        "id": "QslGnMt9jD4p",
        "outputId": "2bf8aa21-8889-445e-df9b-5bd616ef7961"
      },
      "execution_count": 14,
      "outputs": [
        {
          "output_type": "stream",
          "name": "stdout",
          "text": [
            "5\n"
          ]
        }
      ]
    },
    {
      "cell_type": "code",
      "source": [
        "# 13. Write a code to find the index of the element \"cat\" in the tuple ('dog', 'cat', 'rabbit')\n",
        "# Ans:\n",
        "tpl = ('dog', 'cat', 'rabbit')\n",
        "print(tpl.index('cat'))"
      ],
      "metadata": {
        "colab": {
          "base_uri": "https://localhost:8080/"
        },
        "id": "2a2A2u4Wj0NA",
        "outputId": "2146d9cb-e7c4-4802-9231-cf786486b4f8"
      },
      "execution_count": 15,
      "outputs": [
        {
          "output_type": "stream",
          "name": "stdout",
          "text": [
            "1\n"
          ]
        }
      ]
    },
    {
      "cell_type": "code",
      "source": [
        "# 14. Write a code to create a tuple containing three different fruits and check if \"kiwi\" is in it\n",
        "# Ans:\n",
        "tpl = (\"apple\", \"banana\", \"mango\")\n",
        "print(\"kiwi\" in tpl)"
      ],
      "metadata": {
        "colab": {
          "base_uri": "https://localhost:8080/"
        },
        "id": "i8ZdQGo1kASr",
        "outputId": "a66473a6-a4f4-485d-b9fd-d213a3566ee7"
      },
      "execution_count": 16,
      "outputs": [
        {
          "output_type": "stream",
          "name": "stdout",
          "text": [
            "False\n"
          ]
        }
      ]
    },
    {
      "cell_type": "code",
      "source": [
        "# 15. Write a code to create a set with the elements 'a', 'b', 'c' and print it\n",
        "# Ans:\n",
        "s = {'a', 'b', 'c'}\n",
        "print(s)"
      ],
      "metadata": {
        "colab": {
          "base_uri": "https://localhost:8080/"
        },
        "id": "OBZD5vK0kdzB",
        "outputId": "48585979-7f3c-4760-b669-665d9e4c7c14"
      },
      "execution_count": 17,
      "outputs": [
        {
          "output_type": "stream",
          "name": "stdout",
          "text": [
            "{'b', 'a', 'c'}\n"
          ]
        }
      ]
    },
    {
      "cell_type": "code",
      "source": [
        "# 16.  Write a code to clear all elements from the set {1, 2, 3, 4, 5}\n",
        "# Ans:\n",
        "s = {1, 2, 3, 4, 5}\n",
        "s.clear()\n",
        "print(s)"
      ],
      "metadata": {
        "colab": {
          "base_uri": "https://localhost:8080/"
        },
        "id": "d_tHyrdUkzp7",
        "outputId": "ddbf02cc-663e-4eaf-ff32-d56a4548b180"
      },
      "execution_count": 18,
      "outputs": [
        {
          "output_type": "stream",
          "name": "stdout",
          "text": [
            "set()\n"
          ]
        }
      ]
    },
    {
      "cell_type": "code",
      "source": [
        "# 17. Write a code to remove the element 4 from the set {1, 2, 3, 4}\n",
        "# Ans:\n",
        "s = {1, 2, 3, 4}\n",
        "s.remove(4)\n",
        "print(s)"
      ],
      "metadata": {
        "colab": {
          "base_uri": "https://localhost:8080/"
        },
        "id": "rDJI-InNlLRk",
        "outputId": "476276d3-1bc4-4692-b316-e23b85c9284d"
      },
      "execution_count": 19,
      "outputs": [
        {
          "output_type": "stream",
          "name": "stdout",
          "text": [
            "{1, 2, 3}\n"
          ]
        }
      ]
    },
    {
      "cell_type": "code",
      "source": [
        "# 18. Write a code to find the union of two sets {1, 2, 3} and {3, 4, 5}\n",
        "# Ans:\n",
        "a = {1, 2, 3}\n",
        "b = {3, 4, 5}\n",
        "print(a.union(b))"
      ],
      "metadata": {
        "colab": {
          "base_uri": "https://localhost:8080/"
        },
        "id": "nTJwdubplkRu",
        "outputId": "fc20e2ae-6944-48d1-eee9-7d7c22c1037e"
      },
      "execution_count": 20,
      "outputs": [
        {
          "output_type": "stream",
          "name": "stdout",
          "text": [
            "{1, 2, 3, 4, 5}\n"
          ]
        }
      ]
    },
    {
      "cell_type": "code",
      "source": [
        "# 19. Write a code to find the intersection of two sets {1, 2, 3} and {2, 3, 4}\n",
        "# Ans:\n",
        "a = {1, 2, 3}\n",
        "b = {2, 3, 4}\n",
        "print(a.intersection(b))"
      ],
      "metadata": {
        "colab": {
          "base_uri": "https://localhost:8080/"
        },
        "id": "B-YTrH3Xl9dn",
        "outputId": "5e632088-5ab1-4b5a-bd86-7d985535d6df"
      },
      "execution_count": 21,
      "outputs": [
        {
          "output_type": "stream",
          "name": "stdout",
          "text": [
            "{2, 3}\n"
          ]
        }
      ]
    },
    {
      "cell_type": "code",
      "source": [
        "# 20 Write a code to find the intersection of two sets {1, 2, 3} and {2, 3, 4}\n",
        "# Ans:\n",
        "a = {1, 2, 3}\n",
        "b = {2, 3, 4}\n",
        "print(a.intersection(b))"
      ],
      "metadata": {
        "colab": {
          "base_uri": "https://localhost:8080/"
        },
        "id": "-Z488JbBmPJj",
        "outputId": "913df6e2-7b0d-4fcf-d989-13fd59c1c4e5"
      },
      "execution_count": 22,
      "outputs": [
        {
          "output_type": "stream",
          "name": "stdout",
          "text": [
            "{2, 3}\n"
          ]
        }
      ]
    },
    {
      "cell_type": "code",
      "source": [
        "# 21. Write a code to create a dictionary with the keys \"name\", \"age\", and \"city\", and print it\n",
        "# Ans:\n",
        "person = {\"name\": \"Alice\", \"age\": 30, \"city\": \"Paris\"}\n",
        "print(person)"
      ],
      "metadata": {
        "colab": {
          "base_uri": "https://localhost:8080/"
        },
        "id": "D3Wo6INZnyCc",
        "outputId": "66dc8dee-518c-481f-8389-d6e51ac12a67"
      },
      "execution_count": 23,
      "outputs": [
        {
          "output_type": "stream",
          "name": "stdout",
          "text": [
            "{'name': 'Alice', 'age': 30, 'city': 'Paris'}\n"
          ]
        }
      ]
    },
    {
      "cell_type": "code",
      "source": [
        "# 22.  Write a code to add a new key-value pair \"country\": \"USA\" to the dictionary {'name':'John', 'age': 25}\n",
        "# Ans:\n",
        "person = {'name': 'John', 'age': 25}\n",
        "person['country'] = 'USA'\n",
        "print(person)"
      ],
      "metadata": {
        "colab": {
          "base_uri": "https://localhost:8080/"
        },
        "id": "XGe2GS4Hn6yQ",
        "outputId": "8fc35089-bb6b-4b9c-e8d5-14a24e27d253"
      },
      "execution_count": 24,
      "outputs": [
        {
          "output_type": "stream",
          "name": "stdout",
          "text": [
            "{'name': 'John', 'age': 25, 'country': 'USA'}\n"
          ]
        }
      ]
    },
    {
      "cell_type": "code",
      "source": [
        "# 23. Write a code to access the value associated with the key \"name\" in the dictionary {'name': 'Alice', 'age': 30}\n",
        "# Ans:\n",
        "person = {'name': 'Alice', 'age': 30}\n",
        "print(person['name'])"
      ],
      "metadata": {
        "colab": {
          "base_uri": "https://localhost:8080/"
        },
        "id": "urDsRr5IoHYl",
        "outputId": "78ba69c3-970e-4ae9-a78b-ac762f1c381d"
      },
      "execution_count": 25,
      "outputs": [
        {
          "output_type": "stream",
          "name": "stdout",
          "text": [
            "Alice\n"
          ]
        }
      ]
    },
    {
      "cell_type": "code",
      "source": [
        "# 24.  Write a code to remove the key \"age\" from the dictionary {'name': 'Bob', 'age': 22, 'city': 'New York'}\n",
        "# Ans:\n",
        "person = {'name': 'Bob', 'age': 22, 'city': 'New York'}\n",
        "del person['age']\n",
        "print(person)"
      ],
      "metadata": {
        "colab": {
          "base_uri": "https://localhost:8080/"
        },
        "id": "xKaiPXjToT3K",
        "outputId": "e9c0afec-a222-4cde-f660-7e764ad13b72"
      },
      "execution_count": 26,
      "outputs": [
        {
          "output_type": "stream",
          "name": "stdout",
          "text": [
            "{'name': 'Bob', 'city': 'New York'}\n"
          ]
        }
      ]
    },
    {
      "cell_type": "code",
      "source": [
        "# 25. Write a code to check if the key \"city\" exists in the dictionary {'name': 'Alice', 'city': 'Paris'}\n",
        "# Ans:\n",
        "person = {'name': 'Alice', 'city': 'Paris'}\n",
        "print('city' in person)"
      ],
      "metadata": {
        "colab": {
          "base_uri": "https://localhost:8080/"
        },
        "id": "S3k1bMugod3K",
        "outputId": "b40c8cd1-1a5e-4b9a-cb29-a0837b6e91c2"
      },
      "execution_count": 27,
      "outputs": [
        {
          "output_type": "stream",
          "name": "stdout",
          "text": [
            "True\n"
          ]
        }
      ]
    },
    {
      "cell_type": "code",
      "source": [
        "# 26. Write a code to create a list, a tuple, and a dictionary, and print them all\n",
        "# Ans:\n",
        "lst = [1, 2, 3]\n",
        "tpl = (4, 5, 6)\n",
        "dct = {\"a\": 1, \"b\": 2}\n",
        "print(lst)\n",
        "print(tpl)\n",
        "print(dct)"
      ],
      "metadata": {
        "id": "_kiowm30oncJ"
      },
      "execution_count": null,
      "outputs": []
    },
    {
      "cell_type": "code",
      "source": [
        "# 27.Write a code to create a list of 5 random numbers between 1 and 100, sort it in ascending order, and print the result\n",
        "# Ans:\n",
        "import random\n",
        "lst = random.sample(range(1, 101), 5)\n",
        "lst.sort()\n",
        "print(lst)"
      ],
      "metadata": {
        "colab": {
          "base_uri": "https://localhost:8080/"
        },
        "id": "Uh7n7eczpSh2",
        "outputId": "7482808c-5b9c-4808-e323-5ca6e13f6d7e"
      },
      "execution_count": 28,
      "outputs": [
        {
          "output_type": "stream",
          "name": "stdout",
          "text": [
            "[8, 28, 46, 52, 54]\n"
          ]
        }
      ]
    },
    {
      "cell_type": "code",
      "source": [
        "# 28. Write a code to create a list with strings and print the element at the third index\n",
        "# Ans:\n",
        "lst = ['apple', 'banana', 'cherry', 'date', 'elderberry']\n",
        "print(lst[3])"
      ],
      "metadata": {
        "colab": {
          "base_uri": "https://localhost:8080/"
        },
        "id": "FMXmIpn-pcOj",
        "outputId": "7c63a66f-014f-41e7-ae24-edcd49698223"
      },
      "execution_count": 29,
      "outputs": [
        {
          "output_type": "stream",
          "name": "stdout",
          "text": [
            "date\n"
          ]
        }
      ]
    },
    {
      "cell_type": "code",
      "source": [
        "# 29. Write a code to combine two dictionaries into one and print the result\n",
        "# Ans:\n",
        "dict1 = {'a': 1, 'b': 2}\n",
        "dict2 = {'c': 3, 'd': 4}\n",
        "dict1.update(dict2)\n",
        "print(dict1)"
      ],
      "metadata": {
        "colab": {
          "base_uri": "https://localhost:8080/"
        },
        "id": "N_JapNa7plke",
        "outputId": "47d20139-872e-435b-f83c-9e674793383f"
      },
      "execution_count": 30,
      "outputs": [
        {
          "output_type": "stream",
          "name": "stdout",
          "text": [
            "{'a': 1, 'b': 2, 'c': 3, 'd': 4}\n"
          ]
        }
      ]
    },
    {
      "cell_type": "code",
      "source": [
        "# 30. Write a code to convert a list of strings into a set\n",
        "# Ans:\n",
        "lst = ['apple', 'banana', 'apple']\n",
        "print(set(lst))"
      ],
      "metadata": {
        "colab": {
          "base_uri": "https://localhost:8080/"
        },
        "id": "TT_5hKSnpu1z",
        "outputId": "c97b973b-6743-4a27-adb8-1b7794c171f2"
      },
      "execution_count": 31,
      "outputs": [
        {
          "output_type": "stream",
          "name": "stdout",
          "text": [
            "{'banana', 'apple'}\n"
          ]
        }
      ]
    }
  ]
}