{
  "nbformat": 4,
  "nbformat_minor": 0,
  "metadata": {
    "colab": {
      "provenance": []
    },
    "kernelspec": {
      "name": "python3",
      "display_name": "Python 3"
    },
    "language_info": {
      "name": "python"
    }
  },
  "cells": [
    {
      "cell_type": "code",
      "execution_count": null,
      "metadata": {
        "id": "MyTW9btrrPy1"
      },
      "outputs": [],
      "source": []
    },
    {
      "cell_type": "markdown",
      "source": [
        "1. What is the difference between a function and a method in Python?\n",
        "\n",
        "Ans:\n",
        "* A function is a block of code that performs a specific task and is defined using the 'def' keyword.\n",
        "* A method is like a function, but it is associated with an object and is called on that object.\n",
        "* Example: str.upper() is a method, while len(str) is a function.\n",
        "\n",
        "2. Explain the concept of function arguments and parameters in Python.\n",
        "\n",
        "Ans:\n",
        "* Parameters are the variables listed inside the parentheses in the function definition.\n",
        "* Arguments are the values passed to the function when it is called.\n",
        "* Example: def greet(name): - 'name' is a parameter; greet('Alice') - 'Alice' is an argument.\n",
        "\n",
        "3. What are the different ways to define and call a function in Python?\n",
        "\n",
        "Ans:\n",
        "* Functions are defined using 'def' or 'lambda'.\n",
        "* They can be called by using their name followed by parentheses with arguments.\n",
        "* Example: def add(x, y): return x + y; add(2, 3).\n",
        "\n",
        "4. What is the purpose of the `return` statement in a Python function?\n",
        "Ans:\n",
        "* The 'return' statement is used to send a result back to the caller and to terminate the function.\n",
        "* Example: def square(x): return x * x\n",
        "\n",
        "5. What are iterators in Python and how do they differ from iterables?\n",
        "\n",
        "Ans:\n",
        "* An iterable is an object which can return an iterator.\n",
        "* An iterator is an object with a __next__() method that returns the next item.\n",
        "* Example: list is iterable; iter(list) creates an iterator.\n",
        "\n",
        "6. Explain the concept of generators in Python and how they are defined ?\n",
        "\n",
        "Ans:\n",
        "* Generators are special iterators defined using 'def' and 'yield' instead of 'return'.\n",
        "* Example: def gen(): yield 1\n",
        "\n",
        "7. What are the advantages of using generators over regular functions?\n",
        "\n",
        "Ans:\n",
        "* Generators save memory, are lazy evaluated, and efficient for large datasets as they yield items\n",
        "one by one.\n",
        "\n",
        "8. What is a lambda function in Python and when is it typically used ?\n",
        "\n",
        "Ans:\n",
        "* A lambda function is an anonymous function defined using 'lambda'.\n",
        "*  Useful for small, short-term functions.\n",
        "* Example: lambda x: x * 2\n",
        "\n",
        "9. Explain the purpose and usage of the `map()` function in Python.\n",
        "\n",
        "Ans:\n",
        "* 'map()' applies a function to all items in an iterable.\n",
        "* Example: map(str.upper, ['a', 'b'])\n",
        "\n",
        "10. What is the difference between `map()`, `reduce()`, and `filter()` functions in Python?\n",
        "\n",
        "Ans:\n",
        "* 'map()' transforms items, 'filter()' selects items, 'reduce()' aggregates items.\n",
        "* Example: reduce(lambda x, y: x+y, [1,2,3])\n",
        "\n",
        "\n",
        "\n"
      ],
      "metadata": {
        "id": "rQtXB2HzsEVc"
      }
    },
    {
      "cell_type": "code",
      "source": [
        "# 1. Write a Python function that takes a list of numbers as input and returns the sum of all even numbers in the list.\n",
        "# Ans:\n",
        "def sum_even_numbers(lst):\n",
        " return sum(num for num in lst if num % 2 == 0)"
      ],
      "metadata": {
        "id": "dA__vH07vjUF"
      },
      "execution_count": null,
      "outputs": []
    },
    {
      "cell_type": "code",
      "source": [
        "# 2. Create a Python function that accepts a string and returns the reverse of that string.\n",
        "# Ans:\n",
        "def reverse_string(s):\n",
        " return s[::-1]"
      ],
      "metadata": {
        "id": "P4JzAtX8vwVj"
      },
      "execution_count": null,
      "outputs": []
    },
    {
      "cell_type": "code",
      "source": [
        "# 3. Implement a Python function that takes a list of integers and returns a new list containing the squares of each number.\n",
        "#  Ans:\n",
        "def square_list(lst):\n",
        " return [x ** 2 for x in lst]"
      ],
      "metadata": {
        "id": "8OHRLwk5wKsJ"
      },
      "execution_count": 1,
      "outputs": []
    },
    {
      "cell_type": "code",
      "source": [
        "# 4. Write a Python function that checks if a given number is prime or not from 1 to 200.\n",
        "# Ans:\n",
        "def is_prime(n):\n",
        "   if n <= 1:\n",
        "     return False\n",
        "for i in range(2, int(n**0.5) + 1):\n",
        "    if n % i == 0:\n",
        "       return False\n",
        " return True\n",
        "primes = [x for x in range(1, 201) if is_prime(x)]"
      ],
      "metadata": {
        "colab": {
          "base_uri": "https://localhost:8080/",
          "height": 106
        },
        "id": "dqD--moXxYHm",
        "outputId": "c5f8db0a-b417-4aa5-8bc0-6573ccd340c6"
      },
      "execution_count": 28,
      "outputs": [
        {
          "output_type": "error",
          "ename": "IndentationError",
          "evalue": "unindent does not match any outer indentation level (<tokenize>, line 9)",
          "traceback": [
            "\u001b[0;36m  File \u001b[0;32m\"<tokenize>\"\u001b[0;36m, line \u001b[0;32m9\u001b[0m\n\u001b[0;31m    return True\u001b[0m\n\u001b[0m    ^\u001b[0m\n\u001b[0;31mIndentationError\u001b[0m\u001b[0;31m:\u001b[0m unindent does not match any outer indentation level\n"
          ]
        }
      ]
    },
    {
      "cell_type": "code",
      "source": [
        "# 5. Create an iterator class in Python that generates the Fibonacci sequence up to a specified number of terms.\n",
        "# Ans:\n",
        "class Fibonacci:\n",
        "  def __init__(self, n):\n",
        "     self.n = n\n",
        "     self.a, self.b = 0, 1\n",
        "     self.count = 0\n",
        "def __iter__(self):\n",
        "  return self\n",
        "def __next__(self):\n",
        "  if self.count >= self.n:\n",
        "   raise StopIteration\n",
        "  self.count += 1\n",
        "  self.a, self.b = self.b, self.a + self.b\n",
        "  return self.a"
      ],
      "metadata": {
        "id": "90SUIPdYC78D"
      },
      "execution_count": 29,
      "outputs": []
    },
    {
      "cell_type": "code",
      "source": [
        "# 6. Write a generator function in Python that yields the powers of 2 up to a given exponent.\n",
        "# Ans:\n",
        "def powers_of_two(max_exp):\n",
        "  for i in range(max_exp + 1):\n",
        "    yield 2 ** i"
      ],
      "metadata": {
        "id": "8qGFxlOHHKBT"
      },
      "execution_count": 32,
      "outputs": []
    },
    {
      "cell_type": "code",
      "source": [
        " # 7. Implement a generator function that reads a file line by line and yields each line as a string.\n",
        "# Ans:\n",
        "def read_file_line_by_line(file_path):\n",
        "  with open(file_path, 'r') as file:\n",
        "   for line in file:\n",
        "    yield line.strip()"
      ],
      "metadata": {
        "id": "S18KZShPHYQ-"
      },
      "execution_count": 37,
      "outputs": []
    },
    {
      "cell_type": "code",
      "source": [
        "# 8. Use a lambda function in Python to sort a list of tuples based on the second element of each tuple.\n",
        "# Ans:\n",
        "data = [(1, 3), (2, 1), (4, 2)]\n",
        "sorted_data = sorted(data, key=lambda x: x[1])"
      ],
      "metadata": {
        "id": "zmoKi6GWI0Eo"
      },
      "execution_count": 39,
      "outputs": []
    },
    {
      "cell_type": "code",
      "source": [
        "# 9. Write a Python program that uses `map()` to convert a list of temperatures from Celsius to Fahrenheit.\n",
        "# Ans:\n",
        "celsius = [0, 10, 20, 30]\n",
        "fahrenheit = list(map(lambda c: (9/5)*c + 32, celsius))"
      ],
      "metadata": {
        "id": "WiXZPO1mJcgE"
      },
      "execution_count": 41,
      "outputs": []
    },
    {
      "cell_type": "code",
      "source": [
        "# 10. Create a Python program that uses `filter()` to remove all the vowels from a given string.\n",
        "# Ans:\n",
        "def remove_vowels(s):\n",
        " return ''.join(filter(lambda x: x.lower() not in 'aeiou', s))"
      ],
      "metadata": {
        "id": "dPsHr95nJh1M"
      },
      "execution_count": 43,
      "outputs": []
    },
    {
      "cell_type": "code",
      "source": [
        " # 11. Bookshop accounting routine using lambda and map.\n",
        "# Ans:\n",
        "orders = [\n",
        "['Order-1', 30.0, 3],\n",
        "['Order-2', 100.0, 1],\n",
        "['Order-3', 25.0, 4]\n",
        "]\n",
        "result = list(map(lambda order: (order[0], order[1] * order[2] + (10 if order[1] *\n",
        "order[2] < 100 else 0)), orders))"
      ],
      "metadata": {
        "id": "gCMy0c5nJugA"
      },
      "execution_count": 44,
      "outputs": []
    }
  ]
}