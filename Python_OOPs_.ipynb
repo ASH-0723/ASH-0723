{
  "nbformat": 4,
  "nbformat_minor": 0,
  "metadata": {
    "colab": {
      "provenance": []
    },
    "kernelspec": {
      "name": "python3",
      "display_name": "Python 3"
    },
    "language_info": {
      "name": "python"
    }
  },
  "cells": [
    {
      "cell_type": "markdown",
      "source": [
        "# **Python OOPs Theory**"
      ],
      "metadata": {
        "id": "CBfNu-rRtbTu"
      }
    },
    {
      "cell_type": "markdown",
      "source": [
        " **1**. What is Object-Oriented Programming (OOP)?\n",
        "\n",
        "Ans:\n",
        " * OOP is a programming paradigm based on the concept of objects, which contain data and methods.\n",
        " *  It promotes modularity, code reuse, and encapsulation.\n",
        "\n",
        "**2**. What is a class in OOP?\n",
        "\n",
        " Ans:\n",
        " * A class is a blueprint for creating objects.\n",
        " * It defines a set of attributes and methods.\n",
        "\n",
        "**3**.  What is an object in OOP?\n",
        "\n",
        " Ans:\n",
        " * An object is an instance of a class.\n",
        " * It represents a real-world entity with state and behavior.\n",
        "\n",
        "**4**. What is the difference between abstraction and encapsulation?\n",
        "\n",
        " Ans:\n",
        " * Abstraction hides complexity by showing only essential features, while encapsulation wraps data and\n",
        " methods together to protect them from outside interference.\n",
        "\n",
        "**5**. What are dunder methods in Python?\n",
        "\n",
        " Ans:\n",
        " * Dunder methods are special methods with double underscores, like __init__, __str__, and __repr__, used to\n",
        " define behavior of objects.\n",
        "\n",
        "**6**. Explain the concept of inheritance in OOP.\n",
        "\n",
        " Ans:\n",
        " * Inheritance allows a class to acquire properties and methods of another class, promoting code reuse.\n",
        "\n",
        "**7**. What is polymorphism in OOP?\n",
        "\n",
        " Ans:\n",
        " * Polymorphism allows objects of different classes to be treated as objects of a common superclass.\n",
        "\n",
        "**8**. How is encapsulation achieved in Python?\n",
        "\n",
        " Ans:\n",
        " * Encapsulation is achieved using private variables (prefix with _) and public methods to access them.\n",
        "\n",
        "**9**. What is a constructor in Python?\n",
        "\n",
        " Ans:\n",
        " * A constructor is a special method __init__ used to initialize objects.\n",
        "\n",
        "**10**. What are class and static methods in Python?\n",
        "\n",
        " Ans:\n",
        " * @classmethod takes cls as the first argument, used for class-level operations. @staticmethod doesn't take\n",
        " self or cls.\n",
        "\n",
        "**11**. What is method overloading in Python?\n",
        "\n",
        " Ans:\n",
        " * Python does not support method overloading directly, but default arguments can be used to achieve similar\n",
        " behavior.\n",
        "\n",
        "**12**. What is method overriding in OOP?\n",
        "\n",
        " Ans:\n",
        " * Method overriding is when a subclass provides a specific implementation of a method already defined in its\n",
        " superclass.\n",
        "\n",
        "**13**. What is a property decorator in Python?\n",
        "\n",
        " Ans:\n",
        " * The @property decorator turns a method into a read-only property.\n",
        "\n",
        "**14**. Why is polymorphism important in OOP?\n",
        "\n",
        " Ans:\n",
        " * Polymorphism enhances flexibility and scalability by allowing different objects to be treated uniformly.\n",
        "\n",
        "**15**. What is an abstract class in Python?\n",
        "\n",
        " Ans:\n",
        " * An abstract class is a class with abstract methods that cannot be instantiated directly.\n",
        " * It is defined using the\n",
        " abc module.\n",
        "\n",
        "**16**. What are the advantages of OOP?\n",
        "\n",
        " Ans:\n",
        " * Code reuse, scalability, modularity, and easier debugging and maintenance.\n",
        "\n",
        "**17**. What is the difference between a class variable and an instance variable?\n",
        "\n",
        " Ans:\n",
        " * Class variables are shared across all instances, while instance variables are unique to each object.\n",
        "\n",
        "**18**. What is multiple inheritance in Python?\n",
        "\n",
        " Ans:\n",
        " * Multiple inheritance is when a class inherits from more than one parent class.\n",
        "\n",
        "**19**. Explain the purpose of __str__ and __repr__ methods in Python.\n",
        "\n",
        " Ans:\n",
        " * __str__ returns a readable string, while __repr__ returns an official string representation of the object.\n",
        "\n",
        "**20**. What is the significance of the super() function in Python?\n",
        "\n",
        " Ans:\n",
        " * super() is used to call methods from a parent class in the subclass.\n",
        "\n",
        "**21**. What is the significance of the __del__ method in Python?\n",
        "\n",
        " Ans:\n",
        " * __del__ is a destructor method called when an object is about to be destroyed.\n",
        "\n",
        "**22**. What is the difference between @staticmethod and @classmethod in Python?\n",
        "\n",
        "Ans:\n",
        "*  @staticmethod doesn't take self or cls, while @classmethod takes cls and can modify class state.\n",
        "\n",
        "**23**. How does polymorphism work in Python with inheritance?\n",
        "\n",
        " Ans:\n",
        "* Subclass methods override superclass methods, allowing the same interface to call different behaviors.\n",
        "\n",
        "**24**. What is method chaining in Python OOP?\n",
        "\n",
        " Ans:\n",
        "* Method chaining is calling multiple methods on the same object in a single line by returning self from each\n",
        " method.\n",
        "\n",
        "**25**. What is the purpose of the __ call__ method in Python?\n",
        "\n",
        " Ans:\n",
        "*  __ call__ allows an instance to be called as a function"
      ],
      "metadata": {
        "id": "oApsVkzwteTh"
      }
    },
    {
      "cell_type": "markdown",
      "source": [
        "# **Python OOPs Practical**"
      ],
      "metadata": {
        "id": "qpmSfY1SztY6"
      }
    },
    {
      "cell_type": "code",
      "source": [
        "# 1. Create a parent class Animal with a method speak() that prints a generic message. Create a child class Dog that overrides the speak() method to print \"Bark!\".\n",
        "# Ans:\n",
        "class Animal:\n",
        "    def speak(self):\n",
        "        print('Animal speaks')\n",
        "class Dog(Animal):\n",
        "    def speak(self):\n",
        "        print('Bark!')"
      ],
      "metadata": {
        "id": "0oqBq4qCzt8f"
      },
      "execution_count": 1,
      "outputs": []
    },
    {
      "cell_type": "code",
      "source": [
        "#  2. Write a program to create an abstract class Shape with a method area(). Derive classes Circle and Rectangle from it and implement the area() method in both.\n",
        "# Ans:\n",
        "from abc import ABC, abstractmethod\n",
        "class Shape(ABC):\n",
        "    @abstractmethod\n",
        "    def area(self):\n",
        "        pass\n",
        "class Circle(Shape):\n",
        "    def __init__(self, radius):\n",
        "        self.radius = radius\n",
        "    def area(self):\n",
        "        return 3.14 * self.radius ** 2\n",
        "class Rectangle(Shape):\n",
        "    def __init__(self, width, height):\n",
        "        self.width = width\n",
        "        self.height = height\n",
        "    def area(self):\n",
        "        return self.width * self.height"
      ],
      "metadata": {
        "id": "TK6N8NuaLxm8"
      },
      "execution_count": 2,
      "outputs": []
    },
    {
      "cell_type": "code",
      "source": [
        "# 3. Implement a multi-level inheritance scenario where a class Vehicle has an attribute type. Derive a class Car and further derive a class ElectricCar that adds a battery attribute.\n",
        "# Ans:\n",
        "class Vehicle:\n",
        "    def __init__(self, type):\n",
        "        self.type = type\n",
        "class Car(Vehicle):\n",
        "    def __init__(self, type, brand):\n",
        "        super().__init__(type)\n",
        "        self.brand = brand\n",
        "class ElectricCar(Car):\n",
        "    def __init__(self, type, brand, battery):\n",
        "        super().__init__(type, brand)\n",
        "        self.battery = battery"
      ],
      "metadata": {
        "id": "JwiRtcTAM3nC"
      },
      "execution_count": 3,
      "outputs": []
    },
    {
      "cell_type": "code",
      "source": [
        "# 4. Demonstrate polymorphism by creating a base class Bird with a method fly(). Create two derived classes Sparrow and Penguin that override the fly() method.\n",
        "# Ans:\n",
        "class Bird:\n",
        "    def fly(self):\n",
        "        print('Some birds fly')\n",
        "class Sparrow(Bird):\n",
        "    def fly(self):\n",
        "        print('Sparrow flies high')\n",
        "class Penguin(Bird):\n",
        "    def fly(self):\n",
        "        print('Penguin cannot fly')"
      ],
      "metadata": {
        "id": "SmrRrNIRNO5L"
      },
      "execution_count": 4,
      "outputs": []
    },
    {
      "cell_type": "code",
      "source": [
        "# 5. Write a program to demonstrate encapsulation by creating a class BankAccount with private attributes balance and methods to deposit, withdraw, and check balance.\n",
        "# Ans:\n",
        "class BankAccount:\n",
        "    def __init__(self, balance=0):\n",
        "        self.__balance = balance\n",
        "    def deposit(self, amount):\n",
        "        self.__balance += amount\n",
        "    def withdraw(self, amount):\n",
        "        if amount <= self.__balance:\n",
        "            self.__balance -= amount\n",
        "    def check_balance(self):\n",
        "        return self.__balance"
      ],
      "metadata": {
        "id": "vSjyKiUXNfBr"
      },
      "execution_count": 5,
      "outputs": []
    },
    {
      "cell_type": "code",
      "source": [
        "# 6. Demonstrate runtime polymorphism using a method play() in a base class Instrument. Derive classes Guitar and Piano that implement their own version of play().\n",
        "\n",
        "# Ans:\n",
        "class Instrument:\n",
        "    def play(self):\n",
        "        print('Playing instrument')\n",
        "class Guitar(Instrument):\n",
        "    def play(self):\n",
        "        print('Playing guitar')\n",
        "class Piano(Instrument):\n",
        "    def play(self):\n",
        "        print('Playing piano')"
      ],
      "metadata": {
        "id": "96xH0lPvNtfk"
      },
      "execution_count": 6,
      "outputs": []
    },
    {
      "cell_type": "code",
      "source": [
        "#  7. Create a class MathOperations with a class method add_numbers() to add two numbers and a static method subtract_numbers() to subtract two numbers.\n",
        "# Ans:\n",
        "class MathOperations:\n",
        "    @classmethod\n",
        "    def add_numbers(cls, a, b):\n",
        "        return a + b\n",
        "    @staticmethod\n",
        "    def subtract_numbers(a, b):\n",
        "        return a - b"
      ],
      "metadata": {
        "id": "bbRhGRbIOH_x"
      },
      "execution_count": 7,
      "outputs": []
    },
    {
      "cell_type": "code",
      "source": [
        "# 8. Implement a class Person with a class method to count the total number of persons created.\n",
        "# Ans:\n",
        "class Person:\n",
        "    count = 0\n",
        "    def __init__(self):\n",
        "        Person.count += 1\n",
        "    @classmethod\n",
        "    def total_persons(cls):\n",
        "        return cls.count\n",
        ""
      ],
      "metadata": {
        "id": "MmMlBJ2vOVHQ"
      },
      "execution_count": 8,
      "outputs": []
    },
    {
      "cell_type": "code",
      "source": [
        "#  9. Write a class Fraction with attributes numerator and denominator. Override the str method to display the fraction as \"numerator/denominator\".\n",
        "# Ans:\n",
        "class Fraction:\n",
        "    def __init__(self, numerator, denominator):\n",
        "        self.numerator = numerator\n",
        "        self.denominator = denominator\n",
        "    def __str__(self):\n",
        "        return f'{self.numerator}/{self.denominator}'"
      ],
      "metadata": {
        "id": "OWomW1teOhsN"
      },
      "execution_count": 9,
      "outputs": []
    },
    {
      "cell_type": "code",
      "source": [
        "#  10. Demonstrate operator overloading by creating a class Vector and overriding the add method to add two vectors\n",
        "# Ans:\n",
        "class Vector:\n",
        "    def __init__(self, x, y):\n",
        "        self.x = x\n",
        "        self.y = y\n",
        "    def __add__(self, other):\n",
        "        return Vector(self.x + other.x, self.y + other.y)\n",
        "    def __str__(self):\n",
        "        return f'({self.x}, {self.y})'"
      ],
      "metadata": {
        "id": "s29A7FDFPUM1"
      },
      "execution_count": 10,
      "outputs": []
    },
    {
      "cell_type": "code",
      "source": [
        "# 11. Create a class Person with attributes name and age. Add a method greet() that prints \"Hello, my name is {name} and I am {age} years old.\"\n",
        "# Ans:\n",
        "class Person:\n",
        "    def __init__(self, name, age):\n",
        "        self.name = name\n",
        "        self.age = age\n",
        "    def greet(self):\n",
        "        print(f'Hello, my name is {self.name} and I am {self.age} years old.')"
      ],
      "metadata": {
        "id": "DPOLLensPcw-"
      },
      "execution_count": 11,
      "outputs": []
    },
    {
      "cell_type": "code",
      "source": [
        "#  12. Implement a class Student with attributes name and grades. Create a method average_grade() to compute the average of the grades.\n",
        "# Ans:\n",
        "class Student:\n",
        "    def __init__(self, name, grades):\n",
        "        self.name = name\n",
        "        self.grades = grades\n",
        "    def average_grade(self):\n",
        "        return sum(self.grades) / len(self.grades)"
      ],
      "metadata": {
        "id": "lyO-8MQJPxWN"
      },
      "execution_count": 12,
      "outputs": []
    },
    {
      "cell_type": "code",
      "source": [
        "# 13. Create a class Rectangle with methods set_dimensions() to set the dimensions and area() to calculate the area.\n",
        "# Ans:\n",
        "class Rectangle:\n",
        "    def set_dimensions(self, width, height):\n",
        "        self.width = width\n",
        "        self.height = height\n",
        "    def area(self):\n",
        "        return self.width * self.height"
      ],
      "metadata": {
        "id": "JHzeGcnIP9DI"
      },
      "execution_count": 13,
      "outputs": []
    },
    {
      "cell_type": "code",
      "source": [
        "#  14. Create a class Employee with a method calculate_salary() that computes the salary based on hours worked and hourly rate. Create a derived class Manager that adds a bonus to the salary.\n",
        "# Ans:\n",
        "class Employee:\n",
        "    def calculate_salary(self, hours, rate):\n",
        "        return hours * rate\n",
        "class Manager(Employee):\n",
        "    def calculate_salary(self, hours, rate, bonus):\n",
        "        return super().calculate_salary(hours, rate) + bonus"
      ],
      "metadata": {
        "id": "bnpaO9foQI5f"
      },
      "execution_count": 16,
      "outputs": []
    },
    {
      "cell_type": "code",
      "source": [
        "# 15. Create a class Product with attributes name, price, and quantity. Implement a method total_price() that calculates the total price of the product.\n",
        "# Ans:\n",
        "class Product:\n",
        "    def __init__(self, name, price, quantity):\n",
        "        self.name = name\n",
        "        self.price = price\n",
        "        self.quantity = quantity\n",
        "    def total_price(self):\n",
        "        return self.price * self.quantity"
      ],
      "metadata": {
        "id": "bR-9wuDlQXXO"
      },
      "execution_count": 17,
      "outputs": []
    },
    {
      "cell_type": "code",
      "source": [
        "#  16. Create a class Animal with an abstract method sound(). Create two derived classes Cow and Sheep that implement the sound() method.\n",
        "# Ans:\n",
        "from abc import ABC, abstractmethod\n",
        "class Animal(ABC):\n",
        "    @abstractmethod\n",
        "    def sound(self):\n",
        "        pass\n",
        "class Cow(Animal):\n",
        "    def sound(self):\n",
        "        print('Moo')\n",
        "class Sheep(Animal):\n",
        "    def sound(self):\n",
        "        print('Baa')"
      ],
      "metadata": {
        "id": "jVP05TDIQ-ny"
      },
      "execution_count": 22,
      "outputs": []
    },
    {
      "cell_type": "code",
      "source": [
        "#  17. Create a class Book with attributes title, author, and year_published. Add a method get_book_info() that returns a formatted string with the book's details.\n",
        "# Ans:\n",
        "class Book:\n",
        "    def __init__(self, title, author, year_published):\n",
        "        self.title = title\n",
        "        self.author = author\n",
        "        self.year_published = year_published\n",
        "    def get_book_info(self):\n",
        "        return f'{self.title} by {self.author}, published in {self.year_published}'"
      ],
      "metadata": {
        "id": "D3ql7Xb2RLi2"
      },
      "execution_count": 21,
      "outputs": []
    },
    {
      "cell_type": "code",
      "source": [
        "#  18. Create a class House with attributes address and price. Create a derived class Mansion that adds an attribute number_of_rooms.\n",
        "# Ans:\n",
        "class House:\n",
        "    def __init__(self, address, price):\n",
        "        self.address = address\n",
        "        self.price = price\n",
        "class Mansion(House):\n",
        "    def __init__(self, address, price, number_of_rooms):\n",
        "        super().__init__(address, price)\n",
        "        self.number_of_rooms = number_of_rooms"
      ],
      "metadata": {
        "id": "lCM1I2afRz08"
      },
      "execution_count": 23,
      "outputs": []
    }
  ]
}