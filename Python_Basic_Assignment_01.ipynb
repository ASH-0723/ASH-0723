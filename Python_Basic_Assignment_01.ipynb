{
  "nbformat": 4,
  "nbformat_minor": 0,
  "metadata": {
    "colab": {
      "provenance": []
    },
    "kernelspec": {
      "name": "python3",
      "display_name": "Python 3"
    },
    "language_info": {
      "name": "python"
    }
  },
  "cells": [
    {
      "cell_type": "code",
      "execution_count": null,
      "metadata": {
        "id": "N-opJwf4lNAJ"
      },
      "outputs": [],
      "source": []
    },
    {
      "cell_type": "markdown",
      "source": [
        "# **\"Python Assignment Answers\"**\n",
        "\n",
        "\n",
        "\n"
      ],
      "metadata": {
        "id": "OlK-NUNMt0Rp"
      }
    },
    {
      "cell_type": "markdown",
      "source": [
        "1. What is Python, and why is it popular ?\n",
        "\n",
        "Ans:\n",
        "* Python is a high-level, interpreted programming language known for its simplicity and readability.\n",
        "* It is popular due to its extensive libraries, strong community support, versatility, and use in diverse\n",
        " fields such as web development, data science, AI, and automation.\n",
        "\n",
        "\n",
        "\n",
        "\n",
        "\n",
        "\n",
        "\n",
        "\n",
        "\n"
      ],
      "metadata": {
        "id": "JOZY-fiwlQBL"
      }
    },
    {
      "cell_type": "markdown",
      "source": [
        "2. What is an interpreter in Python ?\n",
        "\n",
        " Ans:\n",
        "* An interpreter in Python is a program that reads and executes Python code line-by-line,\n",
        " translating it into machine code for the computer to understand and run.   \n",
        "\n",
        "\n",
        "\n",
        "\n"
      ],
      "metadata": {
        "id": "uetvgBH1nBR3"
      }
    },
    {
      "cell_type": "markdown",
      "source": [
        "3. What are pre-defined keywords in Python ?\n",
        "Ans:\n",
        "* Pre-defined keywords in Python are reserved words that have special meaning in the language,\n",
        " such as 'if', 'else', 'for', 'while', 'def', 'class', etc.\n",
        "\n",
        "\n"
      ],
      "metadata": {
        "id": "ySBILcrFncIE"
      }
    },
    {
      "cell_type": "markdown",
      "source": [
        "4. Can keywords be used as variable names ?\n",
        "\n",
        "Ans:\n",
        "* No, keywords cannot be used as variable names because they are reserved for specific language\n",
        " functions.\n",
        "\n",
        "\n"
      ],
      "metadata": {
        "id": "qRSXF3-Inzp_"
      }
    },
    {
      "cell_type": "markdown",
      "source": [
        "5. What is mutability in Python ?\n",
        "\n",
        "Ans:\n",
        "* Mutability refers to whether an object can be changed after it is created.\n",
        "* Mutable objects can be\n",
        " altered, whereas immutable objects cannot.\n",
        "\n",
        "\n",
        "\n",
        "\n",
        "\n"
      ],
      "metadata": {
        "id": "hTCDjBDaoSKr"
      }
    },
    {
      "cell_type": "markdown",
      "source": [
        "6. Why are lists mutable, but tuples are immutable ?\n",
        "\n",
        "Ans:\n",
        "* Lists are mutable because they are designed for data that may change during execution.\n",
        "* Tuples are immutable to ensure data integrity and allow their use as dictionary keys.\n",
        "\n",
        "\n",
        "\n",
        "\n",
        "\n"
      ],
      "metadata": {
        "id": "pKaRfsfDosRl"
      }
    },
    {
      "cell_type": "markdown",
      "source": [
        "7. What is the difference between \"==\" and \"is\" operators in Python ?\n",
        "\n",
        "Ans:\n",
        "* The '==' operator checks if two values are equal, while the 'is' operator checks if two variables\n",
        " refer to the same object in memory.\n",
        "\n",
        "\n",
        "\n"
      ],
      "metadata": {
        "id": "hW3uZ0Gxpq_X"
      }
    },
    {
      "cell_type": "markdown",
      "source": [
        "8. What are logical operators in Python ?\n",
        "\n",
        "Ans:\n",
        "* Logical operators in Python include 'and', 'or', and 'not'. They are used to combine conditional\n",
        " statements.\n",
        "\n",
        "\n"
      ],
      "metadata": {
        "id": "znmwgeqnqJxr"
      }
    },
    {
      "cell_type": "markdown",
      "source": [
        "9. What is type casting in Python ?\n",
        "\n",
        "Ans:\n",
        "*  Type casting is the process of converting a variable from one data type to another.\n",
        "\n"
      ],
      "metadata": {
        "id": "9Bi72nMvqhi2"
      }
    },
    {
      "cell_type": "markdown",
      "source": [
        "10. What is the difference between implicit and explicit type casting ?\n",
        "\n",
        "Ans:\n",
        "* Implicit casting is done automatically by Python, whereas explicit casting requires the\n",
        " programmer to convert the type manually using functions like int(), float(), str().\n",
        "\n",
        "\n"
      ],
      "metadata": {
        "id": "_NytZfEcq4nC"
      }
    },
    {
      "cell_type": "markdown",
      "source": [
        "11.  What is the purpose of conditional statements in Python ?\n",
        "\n",
        "Ans:\n",
        "* Conditional statements allow the program to execute certain blocks of code based on specific\n",
        " conditions.\n",
        "\n",
        "\n"
      ],
      "metadata": {
        "id": "nMA665WerS1Y"
      }
    },
    {
      "cell_type": "markdown",
      "source": [
        "12.  How does the elif statement work ?\n",
        "\n",
        "Ans:\n",
        "* The 'elif' statement allows checking multiple expressions for truth value, and executes the first\n",
        " block of code that is true.\n",
        "\n"
      ],
      "metadata": {
        "id": "MH7sLxrRro9C"
      }
    },
    {
      "cell_type": "markdown",
      "source": [
        "13.  What is the difference between for and while loops ?\n",
        "\n",
        "Ans:\n",
        "*  A 'for' loop is used when the number of iterations is known, while a 'while' loop is used when the\n",
        " condition is more dynamic and not based on a sequence.\n",
        "\n"
      ],
      "metadata": {
        "id": "g3btFsINsTDV"
      }
    },
    {
      "cell_type": "markdown",
      "source": [
        "14. Describe a scenario where a while loop is more suitable than a for loop ?\n",
        "\n",
        "Ans:\n",
        "* A while loop is more suitable when waiting for a user to input a specific value,\n",
        "* for example,\n",
        " validating a password until it's correct.\n",
        "\n",
        "\n"
      ],
      "metadata": {
        "id": "Vx7kNpOysxF4"
      }
    },
    {
      "cell_type": "markdown",
      "source": [
        "# **\"Practical Questions\"**\n"
      ],
      "metadata": {
        "id": "PojYM45CtcOw"
      }
    },
    {
      "cell_type": "code",
      "source": [
        " # 1. Write a Python program to print \"Hello, World!\" ?\n",
        "# Ans:\n",
        "\n",
        "print(\"Hello, World!\")\n"
      ],
      "metadata": {
        "colab": {
          "base_uri": "https://localhost:8080/"
        },
        "id": "YbB2_uV5vO2k",
        "outputId": "386b94d0-75f2-40be-838e-40e3effe735a"
      },
      "execution_count": 1,
      "outputs": [
        {
          "output_type": "stream",
          "name": "stdout",
          "text": [
            "Hello, World!\n"
          ]
        }
      ]
    },
    {
      "cell_type": "code",
      "source": [
        "# 2. Write a Python program that displays your name and age ?\n",
        "# Ans:\n",
        "\n",
        "name = \"Ashish\"\n",
        "age = 25\n",
        "print(\"Name:\", name)\n",
        "print(\"Age:\", age)"
      ],
      "metadata": {
        "colab": {
          "base_uri": "https://localhost:8080/"
        },
        "id": "CNssmSD1vuDq",
        "outputId": "d98e2e47-f6a6-40a3-b1a8-b08747f24160"
      },
      "execution_count": 7,
      "outputs": [
        {
          "output_type": "stream",
          "name": "stdout",
          "text": [
            "Name: Ashish\n",
            "Age: 25\n"
          ]
        }
      ]
    },
    {
      "cell_type": "code",
      "source": [
        "# 3. Write code to print all the pre-defined keywords in Python using the keyword library ?\n",
        "# Ans:\n",
        "\n",
        "import keyword\n",
        "print(keyword.kwlist)"
      ],
      "metadata": {
        "colab": {
          "base_uri": "https://localhost:8080/"
        },
        "id": "BQCSrOE6yRyZ",
        "outputId": "344e30d9-d43b-4cf8-f082-a9560aa89423"
      },
      "execution_count": 9,
      "outputs": [
        {
          "output_type": "stream",
          "name": "stdout",
          "text": [
            "['False', 'None', 'True', 'and', 'as', 'assert', 'async', 'await', 'break', 'class', 'continue', 'def', 'del', 'elif', 'else', 'except', 'finally', 'for', 'from', 'global', 'if', 'import', 'in', 'is', 'lambda', 'nonlocal', 'not', 'or', 'pass', 'raise', 'return', 'try', 'while', 'with', 'yield']\n"
          ]
        }
      ]
    },
    {
      "cell_type": "code",
      "source": [
        "# 4. Write a program that checks if a given word is a Python keyword ?\n",
        "# Ans:\n",
        "\n",
        "import keyword\n",
        "word = input(\"Enter a word: \")\n",
        "print(f\"{word} is a keyword\" if keyword.iskeyword(word) else f\"{word} is not a keyword\")"
      ],
      "metadata": {
        "colab": {
          "base_uri": "https://localhost:8080/"
        },
        "id": "Qab7DrpKydKy",
        "outputId": "c8b6982c-72d1-4b69-f9e3-8fa738fbf9d2"
      },
      "execution_count": 14,
      "outputs": [
        {
          "output_type": "stream",
          "name": "stdout",
          "text": [
            "Enter a word: True\n",
            "True is a keyword\n"
          ]
        }
      ]
    },
    {
      "cell_type": "code",
      "source": [
        "# 5. Write a function to demonstrate the behavior of mutable and immutable arguments ?\n",
        "# Ans:\n",
        "\n",
        "def modify_list(lst):\n",
        "    lst.append(10)\n",
        "def modify_int(x):\n",
        "    x += 5\n",
        "my_list = [1, 2]\n",
        "my_int = 10\n",
        "modify_list(my_list)\n",
        "modify_int(my_int)\n",
        "print(my_list)  # List modified\n",
        "print(my_int)  # Integer unchanged"
      ],
      "metadata": {
        "colab": {
          "base_uri": "https://localhost:8080/"
        },
        "id": "kGVMOdQszLno",
        "outputId": "c706fc42-9439-4b86-fef3-73a3854325e3"
      },
      "execution_count": 15,
      "outputs": [
        {
          "output_type": "stream",
          "name": "stdout",
          "text": [
            "[1, 2, 10]\n",
            "10\n"
          ]
        }
      ]
    },
    {
      "cell_type": "code",
      "source": [
        "# 6. Write a program that performs basic arithmetic operations on two user-input numbers ?\n",
        "# Ans:\n",
        "\n",
        "a = int(input(\"Enter first number: \"))\n",
        "b = int(input(\"Enter second number: \"))\n",
        "print(\"Sum:\", a + b)\n",
        "print(\"Difference:\", a - b)\n",
        "print(\"Product:\", a * b)\n",
        "print(\"Quotient:\", a / b)"
      ],
      "metadata": {
        "colab": {
          "base_uri": "https://localhost:8080/"
        },
        "id": "K0HH5xpOzuoh",
        "outputId": "6f98d699-7d6c-41fe-b2b5-fe4304be0561"
      },
      "execution_count": 16,
      "outputs": [
        {
          "output_type": "stream",
          "name": "stdout",
          "text": [
            "Enter first number: 45\n",
            "Enter second number: 54\n",
            "Sum: 99\n",
            "Difference: -9\n",
            "Product: 2430\n",
            "Quotient: 0.8333333333333334\n"
          ]
        }
      ]
    },
    {
      "cell_type": "code",
      "source": [
        "# 7. Write a program to demonstrate the use of logical operators ?\n",
        "# Ans:\n",
        "\n",
        "a = True\n",
        "b = False\n",
        "print(\"a and b:\", a and b)\n",
        "print(\"a or b:\", a or b)\n",
        "print(\"not a:\", not a)"
      ],
      "metadata": {
        "colab": {
          "base_uri": "https://localhost:8080/"
        },
        "id": "4mt3sOsk0Qzr",
        "outputId": "2b5e64e5-a6d5-4e95-b8de-d1183f54080a"
      },
      "execution_count": 18,
      "outputs": [
        {
          "output_type": "stream",
          "name": "stdout",
          "text": [
            "a and b: False\n",
            "a or b: True\n",
            "not a: False\n"
          ]
        }
      ]
    },
    {
      "cell_type": "code",
      "source": [
        "# 8. Create a list and tuple in Python, and demonstrate how attempting to change an element works differently for each ?\n",
        "# Ans:\n",
        "\n",
        "my_list = [1, 2, 3]\n",
        "my_tuple = (1, 2, 3)\n",
        "my_list[0] = 10  # Works\n",
        "# my_tuple[0] = 10  # Raises TypeError"
      ],
      "metadata": {
        "id": "gyRufuxQ01xP"
      },
      "execution_count": 25,
      "outputs": []
    },
    {
      "cell_type": "code",
      "source": [
        "# 9. Write a Python program to convert user input from string to integer, float, and boolean type ?\n",
        "# Ans:\n",
        "\n",
        "s = input(\"Enter a value: \")\n",
        "print(\"Integer:\", int(s))\n",
        "print(\"Float:\", float(s))\n",
        "print(\"Boolean:\", bool(s))"
      ],
      "metadata": {
        "colab": {
          "base_uri": "https://localhost:8080/"
        },
        "id": "XAMHnq3F1wzy",
        "outputId": "26314958-eba3-4148-98ef-82268ae8b9cc"
      },
      "execution_count": 28,
      "outputs": [
        {
          "output_type": "stream",
          "name": "stdout",
          "text": [
            "Enter a value: 45\n",
            "Integer: 45\n",
            "Float: 45.0\n",
            "Boolean: True\n"
          ]
        }
      ]
    },
    {
      "cell_type": "code",
      "source": [
        "# 10. Write code to demonstrate type casting with list elements ?\n",
        "# Ans:\n",
        "\n",
        "lst = [\"1\", \"2\", \"3\"]\n",
        "int_list = [int(i) for i in lst]\n",
        "print(int_list)"
      ],
      "metadata": {
        "colab": {
          "base_uri": "https://localhost:8080/"
        },
        "id": "_eHDS6Tq2Pyp",
        "outputId": "d6277c29-e62c-4da7-8e51-825a69a466c2"
      },
      "execution_count": 29,
      "outputs": [
        {
          "output_type": "stream",
          "name": "stdout",
          "text": [
            "[1, 2, 3]\n"
          ]
        }
      ]
    },
    {
      "cell_type": "code",
      "source": [
        "# 11. Write a program that checks if a number is positive, negative, or zero ?\n",
        "# Ans:\n",
        "\n",
        "n = int(input(\"Enter a number: \"))\n",
        "if n > 0:\n",
        "    print(\"Positive\")\n",
        "elif n < 0:\n",
        "    print(\"Negative\")\n",
        "else:\n",
        "    print(\"Zero\")"
      ],
      "metadata": {
        "colab": {
          "base_uri": "https://localhost:8080/"
        },
        "id": "6p1r0Ivu2mMi",
        "outputId": "b1fd1f75-c71c-40fd-bd29-716fe1a9fc51"
      },
      "execution_count": 30,
      "outputs": [
        {
          "output_type": "stream",
          "name": "stdout",
          "text": [
            "Enter a number: 55\n",
            "Positive\n"
          ]
        }
      ]
    },
    {
      "cell_type": "code",
      "source": [
        "# 12. Write a for loop to print numbers from 1 to 10 ?\n",
        "# Ans:\n",
        "\n",
        "for i in range(1, 11):\n",
        "    print(i)"
      ],
      "metadata": {
        "colab": {
          "base_uri": "https://localhost:8080/"
        },
        "id": "Zmez_V9Z3GKW",
        "outputId": "8f4a3442-4bb0-41ed-f566-a197414e50b3"
      },
      "execution_count": 31,
      "outputs": [
        {
          "output_type": "stream",
          "name": "stdout",
          "text": [
            "1\n",
            "2\n",
            "3\n",
            "4\n",
            "5\n",
            "6\n",
            "7\n",
            "8\n",
            "9\n",
            "10\n"
          ]
        }
      ]
    },
    {
      "cell_type": "code",
      "source": [
        "# 13. Write a Python program to find the sum of all even numbers between 1 and 50 ?\n",
        "# Ans:\n",
        "\n",
        "total = sum(i for i in range(1, 51) if i % 2 == 0)\n",
        "print(\"Sum of even numbers:\", total)"
      ],
      "metadata": {
        "colab": {
          "base_uri": "https://localhost:8080/"
        },
        "id": "Z_YusOQI3df9",
        "outputId": "2949fd7f-cbec-4597-bc0d-bfe4951403cf"
      },
      "execution_count": 32,
      "outputs": [
        {
          "output_type": "stream",
          "name": "stdout",
          "text": [
            "Sum of even numbers: 650\n"
          ]
        }
      ]
    },
    {
      "cell_type": "code",
      "source": [
        "# 14. Write a program to reverse a string using a while loop ?\n",
        "# Ans:\n",
        "\n",
        "s = input(\"Enter a string: \")\n",
        "reversed_s = \"\"\n",
        "i = len(s) - 1\n",
        "while i >= 0:\n",
        "    reversed_s += s[i]\n",
        "    i -= 1\n",
        "print(\"Reversed string:\", reversed_s)"
      ],
      "metadata": {
        "colab": {
          "base_uri": "https://localhost:8080/"
        },
        "id": "RlOAFGTr4CWa",
        "outputId": "cf999e61-d88d-47a6-b9cf-b51584c13065"
      },
      "execution_count": 34,
      "outputs": [
        {
          "output_type": "stream",
          "name": "stdout",
          "text": [
            "Enter a string: \"ash\"\n",
            "Reversed string: \"hsa\"\n"
          ]
        }
      ]
    },
    {
      "cell_type": "code",
      "source": [
        "# 15. Write a Python program to calculate the factorial of a number provided by the user using a while loop ?\n",
        "# Ans:\n",
        "\n",
        "n = int(input(\"Enter a number: \"))\n",
        "factorial = 1\n",
        "while n > 1:\n",
        "    factorial *= n\n",
        "    n -= 1\n",
        "print(\"Factorial:\", factorial)"
      ],
      "metadata": {
        "colab": {
          "base_uri": "https://localhost:8080/"
        },
        "id": "8xHBSq5h4hVr",
        "outputId": "eafbf580-8bc3-4d74-f9f8-8045232aa7b1"
      },
      "execution_count": 35,
      "outputs": [
        {
          "output_type": "stream",
          "name": "stdout",
          "text": [
            "Enter a number: 12\n",
            "Factorial: 479001600\n"
          ]
        }
      ]
    }
  ]
}