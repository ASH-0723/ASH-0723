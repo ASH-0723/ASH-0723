{
  "nbformat": 4,
  "nbformat_minor": 0,
  "metadata": {
    "colab": {
      "provenance": []
    },
    "kernelspec": {
      "name": "python3",
      "display_name": "Python 3"
    },
    "language_info": {
      "name": "python"
    }
  },
  "cells": [
    {
      "cell_type": "code",
      "execution_count": null,
      "metadata": {
        "id": "GD85Gye50wqZ"
      },
      "outputs": [],
      "source": []
    },
    {
      "cell_type": "markdown",
      "source": [
        "# **Machine Learning Intro Assignment**"
      ],
      "metadata": {
        "id": "6leUS9Ns_NiV"
      }
    },
    {
      "cell_type": "markdown",
      "source": [
        "# **● Theory Questions**"
      ],
      "metadata": {
        "id": "AGDHnTzs-2tU"
      }
    },
    {
      "cell_type": "markdown",
      "source": [
        "# Question 1:  Explain the differences between AI, ML, Deep Learning (DL), and Data Science (DS).\n",
        "\n",
        "Answer:\n",
        "\n",
        "AI, ML, DL, and DS are related but distinct fields. AI is the broad concept of creating intelligent machines, while ML is a subset of AI that focuses on enabling machines to learn from data. Deep Learning (DL) is a specialized subset of ML using neural networks for complex tasks. Data Science (DS) is an interdisciplinary field that uses data to gain insights and solve problems, often employing ML and DL techniques\n",
        "\n",
        "1. Artificial Intelligence (AI):\n",
        "AI is the overarching goal of creating machines that can perform tasks that typically require human intelligence.\n",
        "It encompasses a wide range of techniques, including rule-based systems and machine learning.\n",
        "AI aims to mimic human cognitive functions like learning, problem-solving, and decision-making.\n",
        "It can involve both simple and complex tasks, and may or may not require large datasets.\n",
        "2. Machine Learning (ML):\n",
        "ML is a subset of AI that focuses on enabling machines to learn from data without explicit programming.\n",
        "It involves training algorithms on data to identify patterns and make predictions or decisions.\n",
        "ML algorithms learn from labeled data (supervised learning), unlabeled data (unsupervised learning), or a combination (semi-supervised learning).\n",
        "Examples include classification, regression, and clustering.\n",
        "3. Deep Learning (DL):\n",
        "DL is a specialized subset of ML that utilizes artificial neural networks with multiple layers (deep neural networks).\n",
        "These networks are particularly effective at automatically extracting features from raw data, making them suitable for complex tasks like image and speech recognition.\n",
        "DL excels with large datasets and complex patterns, often requiring significant computational resources.\n",
        "4. Data Science (DS):\n",
        "DS is an interdisciplinary field that involves extracting knowledge and insights from data.\n",
        "It encompasses a broad range of techniques, including statistical analysis, data visualization, and machine learning.\n",
        "Data scientists use data to answer questions, solve problems, and inform decision-making.\n",
        "DS often involves a human in the loop, interpreting results and applying domain expertise.\n",
        "It combines elements of statistics, computer science, and domain knowledge.\n",
        "\n",
        "\n",
        "# Question 2: What are the types of machine learning? Describe each with one real-world example.\n",
        "\n",
        "Answer:\n",
        "\n",
        "Machine learning primarily falls into three categories: supervised learning, unsupervised learning, and reinforcement learning. Supervised learning uses labeled data to train models, like predicting house prices based on historical sales data. Unsupervised learning involves finding patterns in unlabeled data, such as grouping customers based on purchasing habits. Reinforcement learning trains agents through trial and error to maximize rewards, like training a robot to navigate a maze.\n",
        "\n",
        "1. Supervised Learning:\n",
        "Definition:\n",
        "In supervised learning, the algorithm learns from a labeled dataset, where each data point has a corresponding correct output or label.\n",
        "How it works:\n",
        "The algorithm learns a mapping function from inputs to outputs, allowing it to predict or classify new, unseen data.\n",
        "Example:\n",
        "A spam filter. The model is trained on a dataset of emails labeled as spam or not spam. It learns to identify patterns in the email content, sender, and other features to classify future emails as spam or not.\n",
        "2. Unsupervised Learning:\n",
        "Definition:\n",
        "Unsupervised learning deals with unlabeled data, where the algorithm explores the data to find hidden patterns, structures, or relationships.\n",
        "How it works:\n",
        "Algorithms like clustering and dimensionality reduction are used to group similar data points or reduce the number of variables while preserving important information.\n",
        "Example:\n",
        "Customer segmentation. A marketing team can use unsupervised learning to group customers based on their demographics, purchase history, and browsing behavior, which can inform targeted marketing campaigns.\n",
        "3. Reinforcement Learning:\n",
        "Definition:\n",
        "Reinforcement learning involves training an agent to make a sequence of decisions by interacting with an environment and receiving rewards or penalties for its actions.\n",
        "How it works:\n",
        "The agent learns through trial and error, aiming to maximize its cumulative reward over time.\n",
        "Example:\n",
        "Training a self-driving car. The car learns to navigate a road by receiving positive feedback (e.g., reaching a destination) and negative feedback (e.g., hitting an obstacle).\n",
        "\n",
        "# Question 3: Define overfitting, underfitting, and the bias-variance tradeoff in machine learning.\n",
        "\n",
        "Answer:\n",
        "\n",
        "● Overfitting\n",
        "\n",
        "Overfitting occurs when a machine learning model learns the training data too well, including the noise and random fluctuations present within that specific dataset. This leads to excellent performance on the training data but poor generalization to new, unseen data. An overfit model is typically too complex and has memorized the training examples rather than learning the underlying patterns.\n",
        "\n",
        "● Underfitting\n",
        "\n",
        "Underfitting happens when a machine learning model is too simplistic and fails to capture the underlying structure or patterns in the data. This results in poor performance on both the training data and unseen test data. An underfit model is characterized by being overly generalized and unable to learn the relevant relationships within the dataset.\n",
        "Bias-Variance Tradeoff\n",
        "The bias-variance tradeoff is a fundamental concept in machine learning that describes the relationship between a model's complexity and its ability to generalize.\n",
        "Bias\n",
        "refers to the error introduced by approximating a real-world problem with a simplified model. High bias indicates underfitting, where the model makes strong assumptions and fails to capture the true relationships.\n",
        "\n",
        "● Variance\n",
        "\n",
        "refers to the error introduced by the model's sensitivity to small fluctuations in the training data. High variance indicates overfitting, where the model learns the noise in the training data and performs poorly on unseen data.\n",
        "The tradeoff lies in the fact that reducing bias often increases variance, and vice-versa. The goal is to find an optimal balance between bias and variance that minimizes the total error and allows the model to generalize effectively to new data.\n",
        "\n",
        "# Question 4: What are outliers in a dataset, and list three common techniques for handling them.\n",
        "\n",
        "Answe:\n",
        "\n",
        "● Outliers in a dataset are data points that significantly deviate from the general pattern or distribution of the other data points. They are values that are unusually high or low compared to the rest of the observations. Outliers can arise from various sources, including measurement errors, data entry mistakes, or genuine but rare events.\n",
        "Three common techniques for handling outliers are:\n",
        "Removal/Deletion:\n",
        "This involves identifying and removing the outlier data points from the dataset. This method is straightforward but should be used cautiously, especially in smaller datasets, as it can lead to a loss of valuable information and potentially bias the remaining data. It is often justified when outliers are clearly identified as errors.\n",
        "\n",
        "● Transformation/Capping (Winsorization):\n",
        "This technique involves changing the value of the outlier rather than removing it entirely. Winsorization, for example, replaces outlier values with the nearest non-outlier value within a defined range (e.g., a certain percentile). Other transformations, such as logarithmic or square root transformations, can also be applied to reduce the influence of extreme values and make the data distribution more symmetrical.\n",
        "Robust Statistical Methods:\n",
        "Instead of modifying the data, this approach involves using statistical methods that are less sensitive to the presence of outliers. Examples include using the median instead of the mean for central tendency, or employing robust regression techniques (e.g., Huber regression, M-estimators) that down-weight the influence of extreme observations during model fitting. These methods provide more stable results when outliers are present.\n",
        "\n",
        "# Question 5: Explain the process of handling missing values and mention one imputation technique for numerical and one for categorical data.\n",
        "\n",
        "Anser:\n",
        "\n",
        "Handling missing values involves strategies to replace or remove incomplete data points, with imputation being a common technique. For numerical data, mean, median, or mode imputation can be used. For categorical data, replacing missing values with the most frequent category or a placeholder like \"Missing\" are common approaches.\n",
        "Elaboration:\n",
        "Missing values, often represented as NaN (Not a Number), can significantly impact the performance of machine learning models. Several methods exist to address this issue, each with its own advantages and disadvantages.\n",
        "1. Deletion:\n",
        "Rows with missing values:\n",
        "Removing rows containing missing data is a straightforward approach. However, it can lead to a loss of valuable data, especially if a large portion of the dataset is missing values.\n",
        "Columns with missing values:\n",
        "If a column has a high percentage of missing values (e.g., more than 50%), it might be more efficient to remove the entire column to avoid introducing bias or noise into the analysis.\n",
        "2. Imputation:\n",
        "Imputation involves replacing missing values with estimated values based on available data. This approach preserves the completeness of the dataset and allows for more robust analysis.\n",
        "Numerical Data:\n",
        "Mean/Median/Mode Imputation:\n",
        "This involves replacing missing values with the mean, median, or mode of the respective column. This is a simple and computationally inexpensive method.\n",
        "K-Nearest Neighbors (KNN) Imputation:\n",
        "This method identifies the k nearest data points to the missing value based on other features and then imputes the missing value with the average of those k neighbors. This approach is particularly useful when there are non-linear relationships between variables, according to Dataaspirant.\n",
        "Regression Imputation:\n",
        "This technique uses a regression model trained on other features to predict the missing values. It can be more accurate than simple imputation methods but might introduce bias if the regression model assumptions are not met.\n",
        "Multiple Imputation:\n",
        "This method generates multiple plausible values for each missing data point and then aggregates the results. It is computationally intensive but provides more accurate estimates than single imputation methods.\n",
        "Categorical Data:\n",
        "Most Frequent Category Imputation:\n",
        "Replaces missing values with the most frequently occurring category in the column. This is a simple and commonly used method.\n",
        "Constant Value Imputation:\n",
        "Replacing missing values with a specific string like \"Missing\" or another placeholder. This method can be useful when the missingness itself is informative.\n",
        "Machine Learning Model Imputation:\n",
        "Training a classification model (e.g., using LightGBM) on the available data to predict the missing categorical values. This approach is more complex but can be more accurate, especially when dealing with complex relationships between features.\n",
        "\n",
        "\n"
      ],
      "metadata": {
        "id": "zitZ8feF1Jlv"
      }
    },
    {
      "cell_type": "markdown",
      "source": [
        "# **● Practical Questions**"
      ],
      "metadata": {
        "id": "I5ea9oak_CVj"
      }
    },
    {
      "cell_type": "code",
      "source": [
        "# Question 6: Write a Python program that: ● Creates a synthetic imbalanced dataset with make_classification() from sklearn.datasets. ● Prints the class distribution.\n",
        "\n",
        "# Answer:\n",
        "from sklearn.datasets import make_classification\n",
        "from collections import Counter\n",
        "\n",
        "# Create a synthetic imbalanced dataset\n",
        "# n_samples: total number of samples\n",
        "# n_features: total number of features\n",
        "# n_informative: number of informative features\n",
        "# n_redundant: number of redundant features\n",
        "# n_clusters_per_class: number of clusters per class\n",
        "# weights: proportion of samples assigned to each class (creates imbalance)\n",
        "# random_state: for reproducibility\n",
        "X, y = make_classification(n_samples=1000, n_features=2, n_informative=2,\n",
        "                           n_redundant=0, n_clusters_per_class=1,\n",
        "                           weights=[0.9, 0.1], random_state=42)\n",
        "\n",
        "# Print the class distribution\n",
        "print(\"Class Distribution:\")\n",
        "print(Counter(y))"
      ],
      "metadata": {
        "colab": {
          "base_uri": "https://localhost:8080/"
        },
        "id": "GauWW6Ib3c4j",
        "outputId": "d7a30592-d9a0-4637-c0a8-3213317a751c"
      },
      "execution_count": 10,
      "outputs": [
        {
          "output_type": "stream",
          "name": "stdout",
          "text": [
            "Class Distribution:\n",
            "Counter({np.int64(0): 895, np.int64(1): 105})\n"
          ]
        }
      ]
    },
    {
      "cell_type": "code",
      "source": [
        "# Question 7: Implement one-hot encoding using pandas for the following list of colors: ['Red', 'Green', 'Blue', 'Green', 'Red']. Print the resulting dataframe.\n",
        "\n",
        "# Answer:\n",
        "import pandas as pd\n",
        "# List of colors\n",
        "colors = ['Red', 'Green', 'Blue', 'Green', 'Red']\n",
        "\n",
        "# Create a DataFrame from the list\n",
        "df = pd.DataFrame({'Color': colors})\n",
        "\n",
        "# Apply one-hot encoding\n",
        "df_encoded = pd.get_dummies(df, columns=['Color'])\n",
        "\n",
        "# Print the resulting DataFrame\n",
        "print(df_encoded)"
      ],
      "metadata": {
        "colab": {
          "base_uri": "https://localhost:8080/"
        },
        "id": "96R0smIm3ysI",
        "outputId": "bc112418-bff9-430f-c275-216f6c64012c"
      },
      "execution_count": 9,
      "outputs": [
        {
          "output_type": "stream",
          "name": "stdout",
          "text": [
            "   Color_Blue  Color_Green  Color_Red\n",
            "0       False        False       True\n",
            "1       False         True      False\n",
            "2        True        False      False\n",
            "3       False         True      False\n",
            "4       False        False       True\n"
          ]
        }
      ]
    },
    {
      "cell_type": "code",
      "source": [
        "# Question 8: Write a Python script to: ● Generate 1000 samples from a normal distribution. ● Introduce 50 random missing values. ● Fill missing values with the column mean. ● Plot a histogram before and after imputation.\n",
        "\n",
        "# Answer:\n",
        "import numpy as np\n",
        "import matplotlib.pyplot as plt\n",
        "\n",
        "# 1. Generate 1000 samples from a normal distribution.\n",
        "np.random.seed(42)  # for reproducibility\n",
        "data = np.random.normal(loc=0, scale=1, size=1000)\n",
        "\n",
        "# 2. Introduce 50 random missing values.\n",
        "missing_indices = np.random.choice(len(data), size=50, replace=False)\n",
        "data_with_missing = data.copy()\n",
        "data_with_missing[missing_indices] = np.nan\n",
        "\n",
        "# 3. Plot a histogram before imputation.\n",
        "plt.figure(figsize=(12, 5))\n",
        "plt.subplot(1, 2, 1)\n",
        "plt.hist(data, bins=30, edgecolor='black', alpha=0.7)\n",
        "plt.title('Histogram Before Imputation (Original Data)')\n",
        "plt.xlabel('Value')\n",
        "plt.ylabel('Frequency')\n",
        "\n",
        "# 4. Fill missing values with the column mean.\n",
        "mean_value = np.nanmean(data_with_missing)\n",
        "data_imputed = np.nan_to_num(data_with_missing, nan=mean_value)\n",
        "\n",
        "# 5. Plot a histogram after imputation.\n",
        "plt.subplot(1, 2, 2)\n",
        "plt.hist(data_imputed, bins=30, edgecolor='black', alpha=0.7)\n",
        "plt.title('Histogram After Mean Imputation')\n",
        "plt.xlabel('Value')\n",
        "plt.ylabel('Frequency')\n",
        "\n",
        "plt.tight_layout()\n",
        "plt.show()"
      ],
      "metadata": {
        "colab": {
          "base_uri": "https://localhost:8080/",
          "height": 507
        },
        "id": "olRJV54W3wOp",
        "outputId": "252b123d-1598-437a-aa07-1ce0855338cc"
      },
      "execution_count": 8,
      "outputs": [
        {
          "output_type": "display_data",
          "data": {
            "text/plain": [
              "<Figure size 1200x500 with 2 Axes>"
            ],
            "image/png": "[encoded data removed]"
          },
          "metadata": {}
        }
      ]
    },
    {
      "cell_type": "code",
      "source": [
        "# Question 9: Implement Min-Max scaling on the following list of numbers [2, 5, 10, 15, 20] using sklearn.preprocessing.MinMaxScaler. Print the scaled array.\n",
        "\n",
        "# Answer:\n",
        "import numpy as np\n",
        "from sklearn.preprocessing import MinMaxScaler\n",
        "\n",
        "# The list of numbers\n",
        "data = [2, 5, 10, 15, 20]\n",
        "\n",
        "# Convert the list to a NumPy array and reshape it for MinMaxScaler\n",
        "data_array = np.array(data).reshape(-1, 1)\n",
        "\n",
        "# Initialize the MinMaxScaler\n",
        "scaler = MinMaxScaler()\n",
        "\n",
        "# Fit and transform the data\n",
        "scaled_data = scaler.fit_transform(data_array)\n",
        "\n",
        "# Print the scaled array\n",
        "print(scaled_data)"
      ],
      "metadata": {
        "colab": {
          "base_uri": "https://localhost:8080/"
        },
        "id": "MhBRFab-46li",
        "outputId": "0fd85217-ead9-4959-ebe7-dac8074c57f2"
      },
      "execution_count": 7,
      "outputs": [
        {
          "output_type": "stream",
          "name": "stdout",
          "text": [
            "[[0.        ]\n",
            " [0.16666667]\n",
            " [0.44444444]\n",
            " [0.72222222]\n",
            " [1.        ]]\n"
          ]
        }
      ]
    },
    {
      "cell_type": "markdown",
      "source": [
        "# Question 10: You are working as a data scientist for a retail company. You receive a customer transaction dataset that contains:  ● Missing ages, ● Outliers in transaction amount, ● A highly imbalanced target (fraud vs. non-fraud), ● Categorical variables like payment method. Explain the step-by-step data preparation plan you’d follow before training a machine learning model. Include how you’d address missing data, outliers, imbalance, and encoding.\n",
        "\n",
        "Answer:\n",
        "\n",
        "🔹 Step 1: Initial Data Exploration\n",
        "\n",
        "Before cleaning, understand the data:\n",
        "\n",
        "● Load data and check structure, data types, and summary statistics.\n",
        "\n",
        "● Visualize distributions (e.g., histograms for age, boxplots for transaction amount).\n",
        "\n",
        "● Check class distribution for the target variable (fraud vs. non-fraud).\n",
        "\n",
        "Inspect null values per column.\n",
        "\n",
        "🔹 Step 2: Handle Missing Data (e.g., Missing Ages)\n",
        "➤ Strategy for 'Age' column:\n",
        "\n",
        "1.Check correlation of age with other variables (e.g., customer segment, transaction type).\n",
        "\n",
        "2.Imputation options:\n",
        "\n",
        "● If MAR (Missing at Random): Use statistical imputation.\n",
        "\n",
        "● Numerical (like Age): Use mean/median imputation (if distribution is symmetric/skewed), or more advanced:\n",
        "\n",
        "● KNN imputation: Considers similar records.\n",
        "\n",
        "● Predictive imputation: Train a model (e.g., regression or random forest) to predict age.\n",
        "\n",
        "● If many values are missing (>30%): Consider dropping the feature if it adds little value.\n",
        "\n",
        "Tip: Add a binary \"Age_missing\" flag to preserve missingness as a potential signal.\n",
        "\n",
        "🔹 Step 3: Handle Outliers (e.g., Transaction Amount)\n",
        "\n",
        "1.Visualize with boxplots or histograms to identify extreme values.\n",
        "\n",
        "2.Determine whether outliers are:\n",
        "\n",
        "● Legitimate high-value transactions (especially in fraud cases), or\n",
        "\n",
        "● Errors or noise (e.g., a $1M transaction for groceries).\n",
        "\n",
        "3.Handling options:\n",
        "\n",
        "● Winsorization: Cap values at a percentile threshold (e.g., 1st and 99th percentiles).\n",
        "\n",
        "● Log transformation: Reduce skew in right-tailed distributions.\n",
        "\n",
        "● Model-based methods: Use robust models (like tree-based) that can handle outliers well.\n",
        "\n",
        "Note: Don’t remove outliers blindly—fraud cases often are outliers.\n",
        "\n",
        "🔹 Step 4: Handle Categorical Variables (e.g., Payment Method)\n",
        "\n",
        "1.Identify cardinality:\n",
        "\n",
        "● Low cardinality: use one-hot encoding (e.g., pd.get_dummies()).\n",
        "\n",
        "● High cardinality: consider target encoding or frequency encoding.\n",
        "\n",
        "2.Avoid dummy variable trap (drop one column to avoid multicollinearity if using linear models).\n",
        "\n",
        "3.Handle missing categories explicitly as \"Unknown\" or a separate category.\n",
        "\n",
        "🔹 Step 5: Address Class Imbalance (Fraud vs. Non-Fraud)\n",
        "\n",
        "Fraud is typically < 5% of the data, which can cause the model to be biased toward the majority class.\n",
        "\n",
        "Solutions:\n",
        "\n",
        "1.Resampling techniques:\n",
        "\n",
        "● Oversampling minority class: SMOTE, ADASYN.\n",
        "\n",
        "● Undersampling majority class: Random undersampling, Tomek links.\n",
        "\n",
        "● Combine both (e.g., SMOTE + Tomek).\n",
        "\n",
        "2.Class weight adjustment:\n",
        "\n",
        "● Most classifiers support a class_weight='balanced' option (e.g., in sklearn's RandomForestClassifier or LogisticRegression).\n",
        "\n",
        "3.Evaluation metrics:\n",
        "\n",
        "● Don’t use accuracy. Use:\n",
        "\n",
        "● Precision, Recall, F1-score\n",
        "\n",
        "● ROC AUC\n",
        "\n",
        "● PR AUC (especially better for imbalanced datasets)\n",
        "\n",
        "🔹 Step 6: Feature Scaling (if needed)\n",
        "\n",
        "● Scale numerical features if using distance-based models (e.g., KNN, SVM, logistic regression).\n",
        "\n",
        " ● Use StandardScaler or MinMaxScaler.\n",
        "\n",
        "● Not needed for tree-based models (e.g., Random Forest, XGBoost).\n",
        "\n",
        "🔹 Step 7: Train-Test Split and Cross-Validation\n",
        "\n",
        "● Use stratified splitting to preserve class distribution.\n",
        "\n",
        "● Cross-validation:\n",
        "\n",
        "● Use StratifiedKFold to maintain balance across folds.\n",
        "\n",
        "🔹 Step 8: Pipeline Automation\n",
        "\n",
        "● Create a preprocessing pipeline using sklearn.pipeline.Pipeline and ColumnTransformer to automate:\n",
        "\n",
        "● Imputation\n",
        "\n",
        "● Encoding\n",
        "\n",
        "● Scaling"
      ],
      "metadata": {
        "id": "o20EsPhq6k41"
      }
    }
  ]
}