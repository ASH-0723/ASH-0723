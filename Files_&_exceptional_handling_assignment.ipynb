{
  "nbformat": 4,
  "nbformat_minor": 0,
  "metadata": {
    "colab": {
      "provenance": []
    },
    "kernelspec": {
      "name": "python3",
      "display_name": "Python 3"
    },
    "language_info": {
      "name": "python"
    }
  },
  "cells": [
    {
      "cell_type": "markdown",
      "source": [
        "# **Files, exceptional handling, logging and memory management Theory Questions**"
      ],
      "metadata": {
        "id": "XIYzEu1Vijar"
      }
    },
    {
      "cell_type": "markdown",
      "source": [
        " **1.** What is the difference between interpreted and compiled languages ?\n",
        "\n",
        " Ans:\n",
        " *  Interpreted languages execute code line-by-line at runtime (e.g.,\n",
        "Python),\n",
        " *  while compiled languages translate code into machine code before execution (e.g., C, Java).\n",
        "\n",
        "**2.** What is exception handling in Python.\n",
        "\n",
        " Ans:\n",
        " *  Exception handling in Python manages runtime errors using try, except, else, and finally blocks to prevent program crashes.\n",
        " * The core components of exception handling in Python are:\n",
        "try block:\n",
        "This block contains the code that might potentially raise an exception.\n",
        "except block:\n",
        "If an exception occurs within the try block, the program's control flow jumps to the except block. This block contains the code to handle the specific exception or a general exception. You can specify different except blocks to handle different types of exceptions.\n",
        "else block (optional):\n",
        "This block executes if no exception is raised within the try block. It is useful for code that should only run when the try block completes successfully.\n",
        "finally block (optional):\n",
        "This block executes unconditionally, regardless of whether an exception occurred or not. It is typically used for cleanup operations, such as closing files or releasing resources.\n",
        "\n",
        "\n",
        "\n",
        "**3.** What is the purpose of the finally block in exception handling.\n",
        "\n",
        " Ans:\n",
        " *  The finally block executes regardless of whether an exception occurs, ensuring resource cleanup.\n",
        " * The finally block in exception handling ensures that a specific block of code is executed, regardless of whether an exception is thrown or caught in the try or catch blocks. Its primary purpose is to provide a mechanism for cleanup operations that must always run, such as releasing resources or closing files, ensuring resources are properly managed even when exceptions occur.\n",
        "\n",
        "**4.** What is logging in Python.\n",
        "\n",
        " Ans:\n",
        " *  Logging tracks events in your software, recording messages for debugging and monitoring.\n",
        "\n",
        "**5.** What is the significance of the __del__ method in Python.\n",
        "\n",
        " Ans:\n",
        " *  The __del__ method is a destructor called when an object is about to be destroyed, used for cleanup.\n",
        "\n",
        "**6.** What is the difference between import and from ... import in Python.\n",
        "\n",
        " Ans:\n",
        " *  import imports the entire module, while from ... import imports specific objects/functions directly.\n",
        "\n",
        "**7.** How can you handle multiple exceptions in Python.\n",
        "\n",
        " Ans:\n",
        " *  You can handle multiple exceptions by using multiple except blocks or a tuple in a single except block.\n",
        "\n",
        "**8.** What is the purpose of the with statement when handling files in Python.\n",
        "\n",
        " Ans:\n",
        " *  It ensures files are properly closed automatically after file operations.\n",
        " * The with statement in Python, when handling files, serves the purpose of simplifying resource management and ensuring that files are properly closed after use, even if errors occur. It achieves this by utilizing the context manager protocol.\n",
        "\n",
        "**9.** What is the difference between multithreading and multiprocessing.\n",
        "\n",
        " Ans:\n",
        " *  Multithreading uses multiple threads in a process, sharing memory, while multiprocessing uses separate\n",
        " processes with separate memory spaces.\n",
        "\n",
        "**10.** What are the advantages of using logging in a program.\n",
        "\n",
        " Ans:\n",
        " *  It helps monitor application behavior, debug issues, and maintain records without interrupting program flow.\n",
        "\n",
        "**11.** What is memory management in Python.\n",
        "\n",
        " Ans:\n",
        " *  Memory management in Python includes allocation and deallocation of memory for objects and uses garbage collection.\n",
        "\n",
        "**12.** What are the basic steps involved in exception handling in Python.\n",
        "\n",
        " Ans:\n",
        " *  Use try to wrap code, except to handle errors, else for no error case, and finally for cleanup.\n",
        "\n",
        "**13.** Why is memory management important in Python.\n",
        "\n",
        " Ans:\n",
        " *  It helps prevent memory leaks and ensures efficient resource utilization.\n",
        "\n",
        "**14.** What is the role of try and except in exception handling.\n",
        "\n",
        "Ans:\n",
        "*  try contains code that may cause errors, while except handles the exceptions.\n",
        "\n",
        "**15.** How does Python's garbage collection system work.\n",
        "\n",
        " Ans:\n",
        " *  It uses reference counting and a cyclic garbage collector to free unused memory.\n",
        "\n",
        "**16.** What is the purpose of the else block in exception handling.\n",
        "\n",
        " Ans:\n",
        " *  else runs if no exceptions occur in the try block.\n",
        "\n",
        "**17.** What are the common logging levels in Python.\n",
        "\n",
        " Ans:\n",
        " *  DEBUG, INFO, WARNING, ERROR, CRITICAL.\n",
        "\n",
        "**18.** What is the difference between os.fork() and multiprocessing in Python.\n",
        "\n",
        " Ans:\n",
        " *  os.fork() creates child processes at OS level; multiprocessing module offers a cross-platform way to\n",
        " create processes.\n",
        "\n",
        "**19.** What is the importance of closing a file in Python.\n",
        "\n",
        " Ans:\n",
        " *  Closing files releases system resources and ensures data is written properly.\n",
        "\n",
        "**20.** What is the difference between file.read() and file.readline() in Python.\n",
        "\n",
        " Ans:\n",
        " *  file.read() reads the entire file; file.readline() reads one line at a time.\n",
        "\n",
        "**21.** What is the logging module in Python used for.\n",
        "\n",
        " Ans:\n",
        " *  To record log messages in a program for debugging and monitoring.\n",
        "\n",
        "**22.** What is the os module in Python used for in file handling.\n",
        "\n",
        " Ans:\n",
        " *  To interact with the operating system, e.g., file paths, file checks, and directory management.\n",
        "\n",
        "**23.** What are the challenges associated with memory management in Python.\n",
        "\n",
        " Ans:\n",
        " *  Handling cyclic references, memory leaks, and efficient resource allocation.\n",
        "\n",
        "**24.** How do you raise an exception manually in Python.\n",
        "\n",
        " Ans:\n",
        " *  Using the raise statement, e.g., raise ValueError('Invalid input').\n",
        "\n",
        "**25.** Why is it important to use multithreading in certain applications?\n",
        "\n",
        " Ans:\n",
        " *  It helps perform concurrent tasks like I/O operations efficiently, improving responsiveness.\n",
        " * Multithreading is important in certain applications because it allows for the efficient execution of multiple tasks simultaneously, leading to improved performance, responsiveness, and resource utilization. By breaking down tasks into smaller threads, applications can achieve parallelism, especially beneficial in systems with multiple processors.\n"
      ],
      "metadata": {
        "id": "xMuUeqUbQSiQ"
      }
    },
    {
      "cell_type": "markdown",
      "source": [
        "# **Files, exceptional handling, logging and memory management Practical Questions**"
      ],
      "metadata": {
        "id": "3jEoF8nEZqaB"
      }
    },
    {
      "cell_type": "code",
      "source": [
        " #1.  How can you open a file for writing in Python and write a string to it ?\n",
        " #Ans:\n",
        "with open('file.txt', 'w') as f:\n",
        "    f.write('Hello, Pw Skills!')"
      ],
      "metadata": {
        "id": "W7kLsKMwZq_i"
      },
      "execution_count": null,
      "outputs": []
    },
    {
      "cell_type": "code",
      "source": [
        " #2.  Write a Python program to read the contents of a file and print each line.\n",
        "\n",
        "with open('file.txt', 'r') as f:\n",
        "  for line in f:\n",
        "        print(line.strip())"
      ],
      "metadata": {
        "colab": {
          "base_uri": "https://localhost:8080/"
        },
        "id": "iBdj9hWwafvk",
        "outputId": "4526f67b-2192-4c9c-e678-5f35fda9a1a5"
      },
      "execution_count": null,
      "outputs": [
        {
          "output_type": "stream",
          "name": "stdout",
          "text": [
            "Hello, Pw Skills!\n",
            "Additional line\n"
          ]
        }
      ]
    },
    {
      "cell_type": "code",
      "source": [
        " #3. How would you handle a case where the file doesn't exist while trying to open it for reading.\n",
        "\n",
        "try:\n",
        "    with open('nofile.txt', 'r') as f:\n",
        "        content = f.read()\n",
        "except FileNotFoundError:\n",
        "    print('File not found.')"
      ],
      "metadata": {
        "colab": {
          "base_uri": "https://localhost:8080/"
        },
        "id": "n0ceHka7arwh",
        "outputId": "edec8a0a-c040-4dbe-f430-b70d2c211c33"
      },
      "execution_count": null,
      "outputs": [
        {
          "output_type": "stream",
          "name": "stdout",
          "text": [
            "File not found.\n"
          ]
        }
      ]
    },
    {
      "cell_type": "code",
      "source": [
        "#4. Write a Python script that reads from one file and writes its content to another file.\n",
        "\n",
        "def copy_file_content(source_file_path, destination_file_path):\n",
        "    \"\"\"\n",
        "    Reads the content of a source file and writes it to a destination file.\n",
        "\n",
        "    Args:\n",
        "        source_file_path (str): The path to the file to read from.\n",
        "        destination_file_path (str): The path to the file to write to.\n",
        "    \"\"\"\n",
        "    try:\n",
        "        with open(source_file_path, 'r') as source_file:\n",
        "            content = source_file.read()\n",
        "\n",
        "        with open(destination_file_path, 'w') as destination_file:\n",
        "            destination_file.write(content)\n",
        "\n",
        "        print(f\"Content from '{source_file_path}' successfully copied to '{destination_file_path}'.\")\n",
        "\n",
        "    except FileNotFoundError:\n",
        "        print(f\"Error: One of the files was not found. Please check the paths.\")\n",
        "    except Exception as e:\n",
        "        print(f\"An error occurred: {e}\")\n",
        "\n",
        "# Example usage:\n",
        "if __name__ == \"__main__\":\n",
        "    # Create a dummy source file for demonstration\n",
        "    with open(\"source.txt\", \"w\") as f:\n",
        "        f.write(\"This is some sample text.\\n\")\n",
        "        f.write(\"This line will also be copied.\\n\")\n",
        "\n",
        "    source_file = \"source.txt\"\n",
        "    destination_file = \"destination.txt\"\n",
        "    copy_file_content(source_file, destination_file)\n",
        "\n",
        "    # Verify the content of the destination file\n",
        "    with open(\"destination.txt\", \"r\") as f:\n",
        "        print(\"\\nContent of destination.txt:\")\n",
        "        print(f.read())"
      ],
      "metadata": {
        "colab": {
          "base_uri": "https://localhost:8080/"
        },
        "id": "mAe-qSDIiDLu",
        "outputId": "a3dcfab2-8f29-429f-f357-a9912ed1cf84"
      },
      "execution_count": null,
      "outputs": [
        {
          "output_type": "stream",
          "name": "stdout",
          "text": [
            "Content from 'source.txt' successfully copied to 'destination.txt'.\n",
            "\n",
            "Content of destination.txt:\n",
            "This is some sample text.\n",
            "This line will also be copied.\n",
            "\n"
          ]
        }
      ]
    },
    {
      "cell_type": "code",
      "source": [
        " #5. How would you catch and handle division by zero error in Python.\n",
        "try:\n",
        "    a = 10 / 0\n",
        "except ZeroDivisionError:\n",
        "    print('Cannot divide by zero.')"
      ],
      "metadata": {
        "colab": {
          "base_uri": "https://localhost:8080/"
        },
        "id": "hZ-wEptIbyYA",
        "outputId": "d30e2ae2-696e-4e11-e70d-eb334242f79a"
      },
      "execution_count": null,
      "outputs": [
        {
          "output_type": "stream",
          "name": "stdout",
          "text": [
            "Cannot divide by zero.\n"
          ]
        }
      ]
    },
    {
      "cell_type": "code",
      "source": [
        "#6. Write a Python program that logs an error message to a log file when a division by zero exception occurs.\n",
        "import logging\n",
        "\n",
        "def configure_logging(log_file='app_errors.log'):\n",
        "    \"\"\"\n",
        "    Configures the logging module to write error messages to a specified log file.\n",
        "    \"\"\"\n",
        "    logging.basicConfig(\n",
        "        filename=log_file,\n",
        "        level=logging.ERROR,  # Log only messages with level ERROR or higher\n",
        "        format='%(asctime)s - %(levelname)s - %(message)s'\n",
        "    )\n",
        "\n",
        "def safe_division(numerator, denominator):\n",
        "    \"\"\"\n",
        "    Performs division and logs an error if a ZeroDivisionError occurs.\n",
        "    \"\"\"\n",
        "    try:\n",
        "        result = numerator / denominator\n",
        "        print(f\"Result of division: {result}\")\n",
        "        return result\n",
        "    except ZeroDivisionError:\n",
        "        error_message = f\"Attempted division by zero: {numerator} / {denominator}\"\n",
        "        logging.error(error_message)\n",
        "        print(\"Error: Cannot divide by zero. Check 'app_errors.log' for details.\")\n",
        "        return None\n",
        "\n",
        "if __name__ == \"__main__\":\n",
        "    configure_logging()\n",
        "\n",
        "    # Test cases\n",
        "    safe_division(10, 2)  # Successful division\n",
        "    safe_division(5, 0)   # Division by zero, triggers logging\n",
        "    safe_division(20, 4)  # Another successful division"
      ],
      "metadata": {
        "colab": {
          "base_uri": "https://localhost:8080/"
        },
        "id": "cByw7rvQb6g8",
        "outputId": "a5070876-d4a4-4d9b-f323-52fa6b0177d0"
      },
      "execution_count": 37,
      "outputs": [
        {
          "output_type": "stream",
          "name": "stderr",
          "text": [
            "ERROR:root:Attempted division by zero: 5 / 0\n"
          ]
        },
        {
          "output_type": "stream",
          "name": "stdout",
          "text": [
            "Result of division: 5.0\n",
            "Error: Cannot divide by zero. Check 'app_errors.log' for details.\n",
            "Result of division: 5.0\n"
          ]
        }
      ]
    },
    {
      "cell_type": "code",
      "source": [
        "#7. How do you log information at different levels (INFO, ERROR, WARNING) in Python using the logging module.\n",
        "import logging\n",
        "\n",
        "# Configure the basic logging setup\n",
        "# Set level to INFO to see INFO, WARNING, ERROR, and CRITICAL messages\n",
        "logging.basicConfig(level=logging.INFO, format='%(levelname)s: %(message)s')\n",
        "\n",
        "# Log messages at different levels\n",
        "logging.debug(\"This is a debug message. (Not shown by default with INFO level)\")\n",
        "logging.info(\"This is an informational message.\")\n",
        "logging.warning(\"This is a warning, something might be wrong.\")\n",
        "logging.error(\"This is an error, something went wrong.\")\n",
        "logging.critical(\"This is a critical error, the application might stop.\")\n",
        "\n",
        "# To see DEBUG messages, change the level in basicConfig:\n",
        "# logging.basicConfig(level=logging.DEBUG, format='%(levelname)s: %(message)s')"
      ],
      "metadata": {
        "colab": {
          "base_uri": "https://localhost:8080/"
        },
        "id": "6GX9WpyqcHhH",
        "outputId": "7ef4adec-c001-4370-f331-42112bc7a3c5"
      },
      "execution_count": 36,
      "outputs": [
        {
          "output_type": "stream",
          "name": "stderr",
          "text": [
            "WARNING:root:This is a warning, something might be wrong.\n",
            "ERROR:root:This is an error, something went wrong.\n",
            "CRITICAL:root:This is a critical error, the application might stop.\n"
          ]
        }
      ]
    },
    {
      "cell_type": "code",
      "source": [
        " #8. Write a program to handle a file opening error using exception handling.\n",
        "try:\n",
        "    with open('nofile.txt') as f:\n",
        "        data = f.read()\n",
        "except FileNotFoundError:\n",
        "    print('File not found.')"
      ],
      "metadata": {
        "colab": {
          "base_uri": "https://localhost:8080/"
        },
        "id": "KKWU4pfdcVsr",
        "outputId": "4130ec89-9d23-40a7-c2ad-3082414be22a"
      },
      "execution_count": null,
      "outputs": [
        {
          "output_type": "stream",
          "name": "stdout",
          "text": [
            "File not found.\n"
          ]
        }
      ]
    },
    {
      "cell_type": "code",
      "source": [
        "#9. How can you read a file line by line and store its content in a list in Python.\n",
        "with open('file.txt') as f:\n",
        "    lines = [line.strip() for line in f]\n",
        "print(lines)"
      ],
      "metadata": {
        "colab": {
          "base_uri": "https://localhost:8080/"
        },
        "id": "QaTttDQ5cc3V",
        "outputId": "44e59eb8-4bfb-4fc5-f51a-aad298f41680"
      },
      "execution_count": null,
      "outputs": [
        {
          "output_type": "stream",
          "name": "stdout",
          "text": [
            "['Hello, Pw Skills!']\n"
          ]
        }
      ]
    },
    {
      "cell_type": "code",
      "source": [
        "#10. How can you append data to an existing file in Python.\n",
        "with open('file.txt', 'a') as f:\n",
        "    f.write('\\nAdditional line')"
      ],
      "metadata": {
        "id": "m4owiLKdcj0s"
      },
      "execution_count": null,
      "outputs": []
    },
    {
      "cell_type": "code",
      "source": [
        " #11.  Write a Python program that uses a try-except block to handle an error when attempting to access a dictionary key that doesn't exist.\n",
        "try:\n",
        "    d = {'a': 1}\n",
        "    print(d['b'])\n",
        "except KeyError:\n",
        "    print('Key does not exist.')"
      ],
      "metadata": {
        "colab": {
          "base_uri": "https://localhost:8080/"
        },
        "id": "SrQXYoz5c-Ro",
        "outputId": "c1b90738-ad78-48aa-fa03-903ccc6c18b2"
      },
      "execution_count": null,
      "outputs": [
        {
          "output_type": "stream",
          "name": "stdout",
          "text": [
            "Key does not exist.\n"
          ]
        }
      ]
    },
    {
      "cell_type": "code",
      "source": [
        " #12. Write a program that demonstrates using multiple except blocks to handle different types of exceptions.\n",
        "try:\n",
        "    a = int('xyz')\n",
        "except ValueError:\n",
        "    print('Value error')\n",
        "except Exception:\n",
        "    print('Other error')"
      ],
      "metadata": {
        "colab": {
          "base_uri": "https://localhost:8080/"
        },
        "id": "vMox1f8SdF4n",
        "outputId": "20eb3c52-08cd-4e0d-be2e-8413d43237f6"
      },
      "execution_count": null,
      "outputs": [
        {
          "output_type": "stream",
          "name": "stdout",
          "text": [
            "Value error\n"
          ]
        }
      ]
    },
    {
      "cell_type": "code",
      "source": [
        "#13.  How would you check if a file exists before attempting to read it in Python.\n",
        "import os\n",
        "if os.path.exists('file.txt'):\n",
        "    with open('file.txt') as f:\n",
        "        print(f.read())\n",
        "else:\n",
        "    print('File does not exist.')"
      ],
      "metadata": {
        "colab": {
          "base_uri": "https://localhost:8080/"
        },
        "id": "61NnzZpmdO5F",
        "outputId": "a44eb968-8706-4294-8ea9-2c9d51b5a3fb"
      },
      "execution_count": null,
      "outputs": [
        {
          "output_type": "stream",
          "name": "stdout",
          "text": [
            "Hello, Pw Skills!\n",
            "Additional line\n"
          ]
        }
      ]
    },
    {
      "cell_type": "code",
      "source": [
        " #14.  Write a program that uses the logging module to log both informational and error messages.\n",
        "import logging\n",
        " logging.basicConfig(filename='app.log', level=logging.INFO)\n",
        " logging.info('Info message')\n",
        " logging.error('Error message')"
      ],
      "metadata": {
        "colab": {
          "base_uri": "https://localhost:8080/"
        },
        "id": "ObjFdK71dWnJ",
        "outputId": "5ce95582-efaf-4f09-d6cf-0dc1683970b4"
      },
      "execution_count": 39,
      "outputs": [
        {
          "output_type": "stream",
          "name": "stderr",
          "text": [
            "ERROR:root:Error message\n"
          ]
        }
      ]
    },
    {
      "cell_type": "code",
      "source": [
        " #15. Write a Python program that prints the content of a file and handles the case when the file is empty.\n",
        "def print_file_content(file_path):\n",
        "    \"\"\"\n",
        "    Prints the content of a specified file.\n",
        "    Handles the case where the file is empty or does not exist.\n",
        "    \"\"\"\n",
        "    try:\n",
        "        with open(file_path, 'r') as file:\n",
        "            content = file.read()\n",
        "            if not content:\n",
        "                print(f\"The file '{file_path}' is empty.\")\n",
        "            else:\n",
        "                print(f\"Content of '{file_path}':\\n{content}\")\n",
        "    except FileNotFoundError:\n",
        "        print(f\"Error: The file '{file_path}' was not found.\")\n",
        "    except Exception as e:\n",
        "        print(f\"An unexpected error occurred: {e}\")\n",
        "\n",
        "# Example usage:\n",
        "# Create a dummy file for demonstration\n",
        "with open(\"empty_file.txt\", \"w\") as f:\n",
        "    pass  # Creates an empty file\n",
        "\n",
        "with open(\"non_empty_file.txt\", \"w\") as f:\n",
        "    f.write(\"This is a line of text.\\n\")\n",
        "    f.write(\"This is another line.\")\n",
        "\n",
        "# Test with an empty file\n",
        "print_file_content(\"empty_file.txt\")\n",
        "\n",
        "# Test with a non-empty file\n",
        "print_file_content(\"non_empty_file.txt\")\n",
        "\n",
        "# Test with a non-existent file\n",
        "print_file_content(\"non_existent_file.txt\")"
      ],
      "metadata": {
        "colab": {
          "base_uri": "https://localhost:8080/"
        },
        "id": "VXE-oImxdf_8",
        "outputId": "fa5fb95d-5958-4e9f-9e6c-3ab3eb76fff2"
      },
      "execution_count": null,
      "outputs": [
        {
          "output_type": "stream",
          "name": "stdout",
          "text": [
            "The file 'empty_file.txt' is empty.\n",
            "Content of 'non_empty_file.txt':\n",
            "This is a line of text.\n",
            "This is another line.\n",
            "Error: The file 'non_existent_file.txt' was not found.\n"
          ]
        }
      ]
    },
    {
      "cell_type": "code",
      "source": [
        "#16. Demonstrate how to use memory profiling to check the memory usage of a small program.\n",
        "import tracemalloc\n",
        "tracemalloc.start()\n",
        "l = [i for i in range(10000)]\n",
        "print(tracemalloc.get_traced_memory())\n",
        "tracemalloc.stop()"
      ],
      "metadata": {
        "colab": {
          "base_uri": "https://localhost:8080/"
        },
        "id": "HD7HaZuVdnFM",
        "outputId": "bf7b0d13-2929-4071-b6e9-4c60649f1fb2"
      },
      "execution_count": null,
      "outputs": [
        {
          "output_type": "stream",
          "name": "stdout",
          "text": [
            "(397905, 409193)\n"
          ]
        }
      ]
    },
    {
      "cell_type": "code",
      "source": [
        "#17.  Write a Python program to create and write a list of numbers to a file, one number per line.\n",
        "numbers = [1, 2, 3, 4, 5]\n",
        "with open('numbers.txt', 'w') as f:\n",
        "  for num in numbers:\n",
        "      f.write(f'{num}\\n')"
      ],
      "metadata": {
        "id": "DzSsN4MmdwsC"
      },
      "execution_count": null,
      "outputs": []
    },
    {
      "cell_type": "code",
      "source": [
        "#18. How would you implement a basic logging setup that logs to a file with rotation after 1MB.\n",
        "import logging.handlers\n",
        "handler = logging.handlers.RotatingFileHandler('app.log', maxBytes=1024*1024, backupCount=3)\n",
        "logging.basicConfig(handlers=[handler], level=logging.INFO)\n",
        "logging.info('Test logging')"
      ],
      "metadata": {
        "id": "5vSPIoFEd8mH"
      },
      "execution_count": null,
      "outputs": []
    },
    {
      "cell_type": "code",
      "source": [
        "#19. Write a program that handles both IndexError and KeyError using a try-except block.\n",
        "try:\n",
        "    l = [1]\n",
        "    print(l[5])\n",
        "except IndexError:\n",
        "    print('Index error')\n",
        "try:\n",
        "    d = {}\n",
        "    print(d['x'])\n",
        "except KeyError:\n",
        "    print('Key error')"
      ],
      "metadata": {
        "colab": {
          "base_uri": "https://localhost:8080/"
        },
        "id": "aqe9K3Q-eMvD",
        "outputId": "2ddb8642-46bd-4ffa-9895-be28a7d1e315"
      },
      "execution_count": null,
      "outputs": [
        {
          "output_type": "stream",
          "name": "stdout",
          "text": [
            "Index error\n",
            "Key error\n"
          ]
        }
      ]
    },
    {
      "cell_type": "code",
      "source": [
        "#20. How would you open a file and read its contents using a context manager in Python.\n",
        "with open('file.txt') as f:\n",
        "    print(f.read())"
      ],
      "metadata": {
        "colab": {
          "base_uri": "https://localhost:8080/"
        },
        "id": "VI_2pAmReW3o",
        "outputId": "5d69974a-97c4-459d-9c19-8c9b0459e8aa"
      },
      "execution_count": null,
      "outputs": [
        {
          "output_type": "stream",
          "name": "stdout",
          "text": [
            "Hello, Pw Skills!\n",
            "Additional line\n"
          ]
        }
      ]
    },
    {
      "cell_type": "code",
      "source": [
        " #21. Write a Python program that reads a file and prints the number of occurrences of a specific word.\n",
        "word = 'python'\n",
        "with open('file.txt') as f:\n",
        "    content = f.read()\n",
        "print(content.lower().count(word))"
      ],
      "metadata": {
        "colab": {
          "base_uri": "https://localhost:8080/"
        },
        "id": "4iWchyr2ecvH",
        "outputId": "efee7586-4e8b-4f33-c4a4-0fc8619402fc"
      },
      "execution_count": null,
      "outputs": [
        {
          "output_type": "stream",
          "name": "stdout",
          "text": [
            "0\n"
          ]
        }
      ]
    },
    {
      "cell_type": "code",
      "source": [
        "#22.  How can you check if a file is empty before attempting to read its contents.\n",
        "import os\n",
        "if os.path.getsize('file.txt') == 0:\n",
        "    print('File is empty')\n",
        "else:\n",
        "    with open('file.txt') as f:\n",
        "        print(f.read())"
      ],
      "metadata": {
        "colab": {
          "base_uri": "https://localhost:8080/"
        },
        "id": "QiZwK7L6ejxE",
        "outputId": "e1fd728d-edf3-430f-d68b-852c422e7c8b"
      },
      "execution_count": null,
      "outputs": [
        {
          "output_type": "stream",
          "name": "stdout",
          "text": [
            "Hello, Pw Skills!\n",
            "Additional line\n"
          ]
        }
      ]
    },
    {
      "cell_type": "code",
      "source": [
        "#23.  Write a Python program that writes to a log file when an error occurs during file handling.\n",
        "import logging\n",
        "logging.basicConfig(filename='file_errors.log', level=logging.ERROR)\n",
        "try:\n",
        "    with open('nofile.txt') as f:\n",
        "        data = f.read()\n",
        "except Exception as e:\n",
        "    logging.error(f'Error: {e}')"
      ],
      "metadata": {
        "colab": {
          "base_uri": "https://localhost:8080/"
        },
        "id": "0Xg-wf-Deynr",
        "outputId": "cc0bb88f-d049-405a-cb08-98ad633a1808"
      },
      "execution_count": 40,
      "outputs": [
        {
          "output_type": "stream",
          "name": "stderr",
          "text": [
            "ERROR:root:Error: [Errno 2] No such file or directory: 'nofile.txt'\n"
          ]
        }
      ]
    }
  ]
}